{
  "nbformat": 4,
  "nbformat_minor": 0,
  "metadata": {
    "colab": {
      "provenance": [],
      "authorship_tag": "ABX9TyNOrNvZkxs99kmYy+V3KwsM",
      "include_colab_link": true
    },
    "kernelspec": {
      "name": "python3",
      "display_name": "Python 3"
    },
    "language_info": {
      "name": "python"
    }
  },
  "cells": [
    {
      "cell_type": "markdown",
      "metadata": {
        "id": "view-in-github",
        "colab_type": "text"
      },
      "source": [
        "<a href=\"https://colab.research.google.com/github/honlai/Financial_Mathematics_I/blob/main/Risk_Parity_Portfolio_Optimization.ipynb\" target=\"_parent\"><img src=\"https://colab.research.google.com/assets/colab-badge.svg\" alt=\"Open In Colab\"/></a>"
      ]
    },
    {
      "cell_type": "markdown",
      "source": [
        "#[A Signal Processing Perspective on Financial Engineering](https://palomar.home.ece.ust.hk/papers/2016/Feng&Palomar-FnT2016.pdf)\n",
        "##Ch9 Risk Parity Portfolio Optimization\n",
        "---\n"
      ],
      "metadata": {
        "id": "g_rgK5KafqBt"
      }
    },
    {
      "cell_type": "markdown",
      "source": [
        "#What is a Risk Parity Portfolio?\n",
        "\n",
        "##**1. Risk Contribution**\n",
        "$N$ **assets** \\\n",
        "**mean vector** $\\mu \\in \\mathbb{R}^N$ \\\n",
        "**covariance matrix** $\\Sigma \\in \\mathbb{R}^{N \\times N}$ \\\n",
        "**portfolio** $\\textbf{w} \\in \\mathbb{R}^N$ \\\n",
        "**risk measurements** $f(\\textbf{w})$   \n",
        "If $f(\\textbf{w})$ is well defined then “**risk contribution**” can be quantified\n",
        "####**Theorm**(Euler's Theorem)\n",
        "Let continuous differentiable function $f:\\mathbb{R}^N \\longrightarrow \\mathbb{R}$ be a positively homogeneous function of degree one.\\\n",
        "(ie. $f(c\\textbf{w})=cf(\\textbf{w}) \\forall c>0$)\\\n",
        "Then $$f(\\textbf{w})=\\sum_{i=1}^N w_i\\frac{\\partial f}{\\partial w_i} \\tag{1}$$\n",
        "\n",
        "where  $w_i\\frac{\\partial f}{\\partial w_i}$  can be regard as the risk contribution from asset $i$ to total risk $f(\\textbf{w})$\n",
        "####**Volatility**\n",
        "**variance** $\\sigma^2(\\textbf{w})=\\textbf{w}^T\\Sigma\\textbf{w}$ is not satisfy $(1)$\n",
        "(But $\\sigma(\\textbf{w})=\\sqrt{\\textbf{w}^T\\Sigma\\textbf{w}}$ is satisfy $(1))$\n",
        "$$\\sum_{i=1}^N w_i\\frac{\\partial \\sigma}{\\partial w_i}=\\sum_{i=1}^N w_i (\\frac{\\Sigma\\textbf{w}}{\\sqrt{\\textbf{w}^T\\Sigma\\textbf{w}}}) \\\\ =\\frac{1}{\\sqrt{\\textbf{w}^T\\Sigma\\textbf{w}}}\\sum_{i=1}^N w_i (\\Sigma\\textbf{w})_i \\\\ = \\frac{1}{\\sqrt{\\textbf{w}^T\\Sigma\\textbf{w}}}\\textbf{w}^T\\Sigma\\textbf{w}=\\sigma(\\textbf{w})$$\n",
        "####**$\\text{VaR}$ (Value-at-Risk) and $\\text{CVaR}$ (Conditional VaR)**\n",
        "The $\\text{CVaR}$ is defined as the conditional mean value of a random variable\n",
        "exceeding a particular percentile.\\\n",
        "Given an random variable $\\textbf{X}$, \\\n",
        "the $\\text{CVaR}$ of the execution cost at the $1-\\epsilon$ confidence level\n",
        "can be expressed as\n",
        "$$\\text{CVaR}_{1-\\epsilon}(\\textbf{X}):=\\text{E}[\\textbf{X}|\\textbf{X}>\\text{VaR}_{1-\\epsilon}(\\textbf{X})]$$\n",
        "where $\\text{VaR}_{1-\\epsilon}(\\textbf{X})$ is the $(1-\\epsilon)$-quantile of $\\text{X}$\n",
        "$$\\text{VaR}_{1-\\epsilon}(\\textbf{X}):=inf_{\\zeta\\in \\mathbb{R}}\\{\\zeta|P(\\text{X}>\\zeta)\\le\\epsilon\\}$$\n",
        "\n",
        "Consider the Gaussian case VaR and $\\text{CVaR}$.\\\n",
        "For the Gaussian distribution, VaR and $\\text{CVaR}$ can be expressed explicitly as\n",
        "$$\\text{VaR}_{1-\\epsilon}(\\textbf{w})=-\\mu^T\\textbf{w}+ \\kappa_1(\\epsilon)\\sqrt{\\textbf{w}^T\\Sigma\\textbf{w}} \\tag{2}$$\n",
        "$$\\text{CVaR}_{1-\\epsilon}(\\textbf{w})=-\\mu^T\\textbf{w}+ \\kappa_2(\\epsilon)\\sqrt{\\textbf{w}^T\\Sigma\\textbf{w}} \\tag{3}$$\n",
        "where $\\kappa_1(\\epsilon):=Q^{-1}(\\epsilon)$ and $\\kappa_2(\\epsilon):=\\frac{1}{\\sqrt{2\\pi}\\epsilon}e^{-\\frac{(Q^{-1}(\\epsilon))^2}{2}}$ ,\n",
        "and $Q^{-1}(\\cdotp)$ is the\n",
        "inverse of the $Q$-function\n",
        "$$Q(x)=\\frac{1}{\\sqrt{2\\pi}}\\int_x^\\infty e^{-\\frac{u^2}{2}}du$$\n",
        "We implicitly assume $epsilon$ is small ($\\epsilon\\le20$%) and $\\kappa_1(\\epsilon)$, $\\kappa_2(\\epsilon)$ both positive."
      ],
      "metadata": {
        "id": "Q6davGWo6pYw"
      }
    },
    {
      "cell_type": "markdown",
      "source": [
        "##**2. Risk Parity Portfolio**\n",
        "**Risk Parity Portfolio** is a portfolio \\\n",
        "s.t. each asset has the same risk contribution.\\\n",
        "Given the risk measurement $f(\\textbf{w})$, satisfy\n",
        "$$w_i\\frac{\\partial f(\\textbf{w})}{\\partial w_i}=w_j\\frac{\\partial f(\\textbf{w})}{\\partial w_j}\\ \\  \\forall i,j \\tag{4}$$\n",
        "**Risk Budgeting Portfolio** is more general concept.\\\n",
        "Given a budget vector $\\textbf{b}=[b_1, ... , b_N]^T>0$ , and $\\textbf{b}^T\\textbf{1}=1$, \\\n",
        "where budget $\\textbf{b}$ is interpreted as a perdetermined percentage risk contribution target for all the assets,\n",
        "$$w_i\\frac{\\partial f(\\textbf{w})}{\\partial w_i}=b_if(\\textbf{w})\\ \\  \\forall i \\tag{5}$$\n",
        "Obviously, the RP portfolio is a special case of the RB portfolio with $\\textbf{b} = \\frac{\\textbf{1}}{N}$.\n",
        "\n",
        "\n",
        "\n",
        "\n",
        "\n"
      ],
      "metadata": {
        "id": "TA2W9lD95jRJ"
      }
    },
    {
      "cell_type": "markdown",
      "source": [
        "#Risk Parity Portfolio Formulations\n",
        "\n",
        "##**1. Some Specific Formulations**\n",
        "The risk contribution of asset $i$ is $\\frac{w_i (\\Sigma\\textbf{w})_i}{\\sqrt{\\textbf{w}^T\\Sigma\\textbf{w}}}$, then\n",
        "$$\n",
        "\\begin{matrix}\n",
        "RP: &w_i(\\Sigma\\textbf{w})_i&=& w_j(\\Sigma\\textbf{w})_j\\\\\n",
        "RB: &w_i(\\Sigma\\textbf{w})_i&=& b_i\\textbf{w}^T\\Sigma\\textbf{w}\n",
        "\\end{matrix}\n",
        "$$\n",
        "Denote the feasible set as $$\\{\\textbf{w}|\\textbf{w}^T\\textbf{1}:=1\\}\\cap W$$\n",
        "Here some constraints: \\\n",
        "$\\textbf{w}^T\\textbf{1}=1$ and $W$ is a convex set \\\n",
        "**Only** if $\\Sigma$ is diagonal and\n",
        "$W=\\{\\textbf{w}|\\textbf{w} \\ge 0\\}$, \\\n",
        "the RB risk contribution of asset  $i$  admit a unique solution:\n",
        "$$w_i=\\frac{\\frac{\\sqrt{b_i}}{\\Sigma_{ii}}}{\\sum_{k=1}^n\\frac{\\sqrt{b_k}}{\\Sigma_{kk}}}\\ \\ i=1, ..., N$$\n",
        "But if $\\Sigma$ is non-diagonal or when there are some additional\n",
        "constraints, \\\n",
        "the closed-form solution does not exist anymore and some optimization problems are constructed instead. \\\n",
        "\n",
        "Finding the risk parity portfolio via optimization. \\\n",
        "The proposed problem formulation is to penalize the summation of squared differences among risk contributions:\n",
        "$$\n",
        "\\begin{matrix}\n",
        "\\text{minimize}_\\textbf{w} &\\sum_{i,j=1}^N(w_i(\\Sigma\\textbf{w})_i-w_j(\\Sigma\\textbf{w})_j)^2 \\\\\n",
        "\\text{subject to} &\\textbf{w}^T\\textbf{1}=1, &\\textbf{w}\\in W\n",
        "\\end{matrix}\n",
        "$$\n",
        "Simplified the objective to solve:\n",
        "$$\n",
        "\\begin{matrix}\n",
        "\\text{minimize}_{\\textbf{w},\\theta} &\\sum_{i=1}^N(w_i(\\Sigma\\textbf{w})_i-\\theta)^2 \\\\\n",
        "\\text{subject to} &\\textbf{w}^T\\textbf{1}=1, &\\textbf{w}\\in W\n",
        "\\end{matrix}\n",
        "$$\n",
        "To find a portfolio that meets the risk budgeting targets $\\textbf{b}$ as much as possible solve:\n",
        "$$\n",
        "\\begin{matrix}\n",
        "\\text{minimize}_{\\textbf{w}} &\\sum_{i=1}^N(\\frac{w_i(\\Sigma\\textbf{w})_i}{\\textbf{w}^T\\Sigma\\textbf{w}}-b_i)^2 \\\\\n",
        "\\text{subject to} &\\textbf{w}^T\\textbf{1}=1, &\\textbf{w}\\in W\n",
        "\\end{matrix}\n",
        "$$\n",
        "Similarly, it is easy to have some other alternative (but different) problem formulations, \\\n",
        "e.g.,\n",
        "$$\n",
        "\\begin{matrix}\n",
        "\\text{minimize}_{\\textbf{w}} &\\sum_{i,j=1}^N(\\frac{w_i(\\Sigma\\textbf{w})_i}{b_i}-\\frac{w_j(\\Sigma\\textbf{w})_j}{b_j})^2 \\\\\n",
        "\\text{subject to} &\\textbf{w}^T\\textbf{1}=1, &\\textbf{w}\\in W\n",
        "\\end{matrix}\n",
        "$$\n",
        "and\n",
        "$$\n",
        "\\begin{matrix}\n",
        "\\text{minimize}_{\\textbf{w}} &\\sum_{i=1}^N(w_i(\\Sigma\\textbf{w})_i-b_i\\textbf{w}^T\\Sigma\\textbf{w})^2 \\\\\n",
        "\\text{subject to} &\\textbf{w}^T\\textbf{1}=1, &\\textbf{w}\\in W\n",
        "\\end{matrix}\n",
        "$$\n",
        "and\n",
        "$$\n",
        "\\begin{matrix}\n",
        "\\text{minimize}_{\\textbf{w}} &\\sum_{i=1}^N(\\frac{w_i(\\Sigma\\textbf{w})_i}{\\sqrt{\\textbf{w}^T\\Sigma\\textbf{w}}}-b_i\\sqrt{\\textbf{w}^T\\Sigma\\textbf{w}})^2 \\\\\n",
        "\\text{subject to} &\\textbf{w}^T\\textbf{1}=1, &\\textbf{w}\\in W\n",
        "\\end{matrix}\n",
        "$$\n",
        "and\n",
        "$$\n",
        "\\begin{matrix}\n",
        "\\text{minimize}_{\\textbf{w},\\theta} &\\sum_{i=1}^N(\\frac{w_i(\\Sigma\\textbf{w})_i}{b_i}-\\theta)^2 \\\\\n",
        "\\text{subject to} &\\textbf{w}^T\\textbf{1}=1, &\\textbf{w}\\in W\n",
        "\\end{matrix}\n",
        "$$\n",
        "##**Note**\n",
        "All the above formulations are nonconvex.\n",
        "There are many more specific formulations."
      ],
      "metadata": {
        "id": "RDFwQPc27ILm"
      }
    },
    {
      "cell_type": "markdown",
      "source": [
        "##**2. General Risk Parity Portfolio Problem**"
      ],
      "metadata": {
        "id": "agP-WDd8IHct"
      }
    }
  ]
}