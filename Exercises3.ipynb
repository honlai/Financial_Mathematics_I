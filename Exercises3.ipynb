{
  "nbformat": 4,
  "nbformat_minor": 0,
  "metadata": {
    "colab": {
      "provenance": [],
      "authorship_tag": "ABX9TyPP9Wji7yB4Gywn9BkKLQU4",
      "include_colab_link": true
    },
    "kernelspec": {
      "name": "python3",
      "display_name": "Python 3"
    },
    "language_info": {
      "name": "python"
    }
  },
  "cells": [
    {
      "cell_type": "markdown",
      "metadata": {
        "id": "view-in-github",
        "colab_type": "text"
      },
      "source": [
        "<a href=\"https://colab.research.google.com/github/honlai/Financial_Mathematics_I/blob/main/Exercises3.ipynb\" target=\"_parent\"><img src=\"https://colab.research.google.com/assets/colab-badge.svg\" alt=\"Open In Colab\"/></a>"
      ]
    },
    {
      "cell_type": "markdown",
      "source": [
        "#Execute simulations for (fractional) Kelly betting/trading\n",
        "###What Is the Kelly Criterion?\n",
        "The Kelly Criterion is a formula used to determine the optimal size of a bet when the expected returns are known. According to the formula, the optimal bet is determined by the formula\n",
        "####The Kelly percentage:\n",
        "$$K\\%=W-\\frac{1-W}{R}$$\n",
        "where\n",
        "$W=$ Winning probability , $R=$ Win/loss ratio\n",
        "​\n"
      ],
      "metadata": {
        "id": "59CfnCx5FG02"
      }
    },
    {
      "cell_type": "code",
      "execution_count": null,
      "metadata": {
        "id": "CNIPJ_mCFB7L"
      },
      "outputs": [],
      "source": []
    },
    {
      "cell_type": "markdown",
      "source": [],
      "metadata": {
        "id": "pJTL1sx6FvDS"
      }
    }
  ]
}