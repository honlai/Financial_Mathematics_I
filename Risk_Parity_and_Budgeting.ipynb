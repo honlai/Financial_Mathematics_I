{
  "nbformat": 4,
  "nbformat_minor": 0,
  "metadata": {
    "colab": {
      "provenance": [],
      "authorship_tag": "ABX9TyNzL72EOYDQt3JfDbrb9r/p",
      "include_colab_link": true
    },
    "kernelspec": {
      "name": "python3",
      "display_name": "Python 3"
    },
    "language_info": {
      "name": "python"
    }
  },
  "cells": [
    {
      "cell_type": "markdown",
      "metadata": {
        "id": "view-in-github",
        "colab_type": "text"
      },
      "source": [
        "<a href=\"https://colab.research.google.com/github/honlai/Financial_Mathematics_I/blob/main/Risk_Parity_and_Budgeting.ipynb\" target=\"_parent\"><img src=\"https://colab.research.google.com/assets/colab-badge.svg\" alt=\"Open In Colab\"/></a>"
      ]
    },
    {
      "cell_type": "markdown",
      "source": [
        "#Nov6 Note\n",
        "##Risk Contribution of portfolio assets\n",
        "###Profit and Loss of the portfolio\n",
        "$$\\large\\hspace{5mm} \\Pi=\\sum_{i=1}^N\\Pi_i$$\n",
        "###Risk-adjusted performance measure\n",
        "$$\\large\\hspace{5mm} \\mathcal{RAPM}(\\Pi):=\\frac{\\mathbb{E}[\\Pi]}{\\mathcal{R}(\\Pi)}$$\n",
        "\n",
        "$$\\large\\hspace{5mm} \\mathcal{RAPM}(\\Pi_i|\\Pi):=\\frac{\\mathbb{E}[\\Pi_i]}{\\mathcal{R}(\\Pi_i|\\Pi)}$$\n",
        "\n",
        "where $\\mathcal{R}$ is corherent risk measure\n",
        "###**Thm:**\n",
        "$$\\large\\hspace{5mm} \\mathcal{R}(\\Pi_i|\\Pi)=\\frac{d}{dh}\\mathcal{R}(h\\Pi_i+\\Pi)|_{h=0}$$ if\n",
        "\n",
        "(1) (full allocation property)\n",
        "\n",
        "$$\\large\\hspace{5mm} \\mathcal{R}(\\Pi)=\\sum_{i=1}^N\\mathcal{R}(\\Pi_i|\\Pi)$$\n",
        "\n",
        "(2) ( $\\mathcal{RAPM}$ compatible)\n",
        "\n",
        "$$\\large\\hspace{5mm} \\exists \\epsilon_i>0 $$\n",
        "$$\\large\\hspace{5mm} s.t. \\mathcal{RAPM}(\\Pi_i|\\Pi)>\\mathcal{RAPM}(\\Pi)$$\n",
        "$$\\large\\hspace{5mm} \\Rightarrow \\mathcal{RAPM}(h\\Pi_i+\\Pi)>\\mathcal{RAPM}(\\Pi) \\hspace{5mm} \\forall 0<h<\\epsilon_i$$\n",
        "\n",
        "###**Def:**\n",
        "###Risk contribution of asset $i$\n",
        "$$\\large\\hspace{5mm} \\mathcal{RC}_i(\\mathcal{w}):=\\mathcal{w}_i\\frac{\\partial\\mathcal{R}(\\mathcal{w})}{\\partial\\mathcal{w}_i}$$\n",
        "satisfying Euler allocation principle:\n",
        "$$\\large\\hspace{5mm} \\mathcal{R}(\\mathcal{w})=\\sum_{i=1}^N\\mathcal{w}_i\\frac{\\partial\\mathcal{R}(\\mathcal{w})}{\\partial\\mathcal{w}_i}=\\sum_{i=1}^N\\mathcal{RC}_i(\\mathcal{w})$$"
      ],
      "metadata": {
        "id": "Q6aSe1ALXMRU"
      }
    },
    {
      "cell_type": "markdown",
      "source": [
        "\n",
        "\n",
        "---\n",
        "\n"
      ],
      "metadata": {
        "id": "cYtEsxrBexdP"
      }
    },
    {
      "cell_type": "markdown",
      "source": [
        "##Risk budgeting portfolio\n",
        "Want to control the risk allocation of the portfolio.\n",
        "\n",
        "Given $[b_1, b_2, ... ,b_N]$\n",
        "\n",
        "called relative risk contribution\n",
        "s.t. $\\sum_{i=1}^Nb_i=1$, $b_i\\ge0$\n",
        "\n",
        "###Consider non-linear system\n",
        "$$\\large\\hspace{5mm} \\mathcal{RC}_i(\\mathcal{w})=b_i\\mathcal{R}(\\mathcal{w})$$ $$\\sum_{i=1}^N\\mathcal{w}_i=1 ,\\hspace{5mm} \\mathcal{w}_i\\ge0$$\n",
        "(Langrange method)\n",
        "$$\\large\\hspace{5mm} \\Longleftrightarrow min_\\mathcal{y}\\mathcal{R}(\\mathcal{y})$$ $$\\large\\hspace{5mm} u.c.\\hspace{5mm} \\sum_{i=1}^Nb_iln(\\mathcal{y}_i)\\ge c ,\\hspace{5mm} \\mathcal{y}\\ge0$$\n",
        "where $c$ is an arbitrary constant\n",
        "\n",
        "###Solution\n",
        "(1) If $b_i>0\\hspace{5mm}\\forall i$ then solution exists and unique.\n",
        "\n",
        "(2) If $b_i \\ge 0\\hspace{5mm}\\forall i$ then there may be several solutions.\n",
        "\n",
        "(3) If $\\rho_{i,j} \\ge 0\\hspace{5mm}\\forall i,j$ then solution unique.\n",
        "\n",
        "If $b_i=\\frac{1}{N}\\hspace{5mm}\\forall i$ called ERC portfolio\n",
        "\n",
        "Consider $u(\\mathcal{w})=\\mathcal{w}^T \\mu-\\frac{\\phi}{2}\\mathcal{R}(\\mathcal{w})^2$\n",
        "\n",
        "·optimal$\\Leftrightarrow \\partial_\\mathcal{w}u(\\mathcal{w})=0\\\\\n",
        "\\Leftrightarrow\\mu = \\phi \\mathcal{R}(\\mathcal{w})\\frac{\\partial\\mathcal{R}(\\mathcal{w})}{\\partial\\mathcal{w}}$\n",
        "\n",
        "·Performance Contribution\n",
        "\n",
        "$\\mathcal{PC}_i$$=\\mathcal{w}_i\\mu_i\\\\\n",
        "=\\phi\\mathcal{R}(\\mathcal{w})\\mathcal{RC}_i\\\\\n",
        "\\propto b_i$"
      ],
      "metadata": {
        "id": "nTiwE54CiCM0"
      }
    },
    {
      "cell_type": "markdown",
      "source": [
        "---"
      ],
      "metadata": {
        "id": "vc3aN4cKiRxD"
      }
    },
    {
      "cell_type": "markdown",
      "source": [
        "#Note\n",
        "##Constrained Risk Budgeting Portfolios\n",
        "##Theory, Algorithms, Applications & Puzzles\n",
        "##SSRN-id3331184"
      ],
      "metadata": {
        "id": "J8W9KM6diSz9"
      }
    },
    {
      "cell_type": "code",
      "execution_count": null,
      "metadata": {
        "id": "pMCxORZ6JWFB"
      },
      "outputs": [],
      "source": [
        "import numpy as np\n",
        "import pandas as pd\n",
        "import yfinance as yf\n",
        "import matplotlib.pyplot as plt\n",
        "from datetime import datetime"
      ]
    },
    {
      "cell_type": "markdown",
      "source": [
        "###Assets\n",
        "$\\large\\hspace{5mm} i = 1, 2, ..., N$\n",
        "###Points in time\n",
        "$\\large\\hspace{5mm} t = t_1 ,t_2 ..., t_M$"
      ],
      "metadata": {
        "id": "tjBKcX0clhp-"
      }
    },
    {
      "cell_type": "code",
      "source": [
        "#股票代號\n",
        "stocks_list=['2330.TW','2357.TW','2454.TW','3231.TW']\n",
        "#開始日期\n",
        "start_date='2020-01-01'\n",
        "#完結日期\n",
        "end_date='2023-10-01'\n",
        "#股票數\n",
        "N=len(stocks_list)\n",
        "#次數\n",
        "M=0#len(data)"
      ],
      "metadata": {
        "id": "gCwydbWcg3sL"
      },
      "execution_count": null,
      "outputs": []
    },
    {
      "cell_type": "markdown",
      "source": [
        "###Price of $i$ th stock\n",
        "$\\large\\hspace{5mm}P_i(t)$"
      ],
      "metadata": {
        "id": "nugTcXYill79"
      }
    },
    {
      "cell_type": "code",
      "source": [
        "# 創建一個空的的主數據框data\n",
        "data = pd.DataFrame()\n",
        "for stock in stocks_list:\n",
        "    # yf.download(股票代號,start=開始日期,end=完結日期)\n",
        "    # yf.download(股票代號,period=日期範圍(1d,5d,1mo,3mo,6mo,1y,2y,5y,10y,ytd,max),\n",
        "    #         interval=頻率(1m,2m,5m,15m,30m,60m,90m,1h,1d,5d,1wk,1mo,3mo))\n",
        "    df=yf.download(stock,start=start_date,end=end_date)\n",
        "    df=df[['Adj Close']]#調整後收盤價\n",
        "    df=df.rename(columns = {'Adj Close': stock})\n",
        "    if data.empty:\n",
        "        data = df\n",
        "    else:\n",
        "        data=pd.concat([data, df], axis=1)\n",
        "    print(stock)"
      ],
      "metadata": {
        "colab": {
          "base_uri": "https://localhost:8080/"
        },
        "id": "N6V6xfCIsQwC",
        "outputId": "445d25a0-2102-4424-b0fc-41ce13c4b0cc"
      },
      "execution_count": null,
      "outputs": [
        {
          "output_type": "stream",
          "name": "stdout",
          "text": [
            "\r[*********************100%%**********************]  1 of 1 completed\n",
            "2330.TW\n",
            "[*********************100%%**********************]  1 of 1 completed\n",
            "2357.TW\n",
            "[*********************100%%**********************]  1 of 1 completed\n",
            "2454.TW\n",
            "[*********************100%%**********************]  1 of 1 completed\n",
            "3231.TW\n"
          ]
        }
      ]
    },
    {
      "cell_type": "code",
      "source": [
        "M=len(data)\n",
        "print(M)\n",
        "print(data)\n",
        "data.plot()"
      ],
      "metadata": {
        "colab": {
          "base_uri": "https://localhost:8080/",
          "height": 728
        },
        "id": "pPbrjhp2vXdY",
        "outputId": "21c3e996-fc10-461f-8cbf-9be16146b4a4"
      },
      "execution_count": null,
      "outputs": [
        {
          "output_type": "stream",
          "name": "stdout",
          "text": [
            "910\n",
            "               2330.TW     2357.TW     2454.TW     3231.TW\n",
            "Date                                                      \n",
            "2020-01-02  312.051575  167.492874  342.400635   22.340096\n",
            "2020-01-03  312.511841  168.936768  336.971863   22.261433\n",
            "2020-01-06  305.607971  167.853836  328.828674   22.025446\n",
            "2020-01-07  303.306763  169.658722  330.379761   22.418756\n",
            "2020-01-08  303.306763  167.492874  333.869690   22.104107\n",
            "...                ...         ...         ...         ...\n",
            "2023-09-22  522.000000  357.500000  746.000000  102.500000\n",
            "2023-09-25  525.000000  359.500000  755.000000  103.000000\n",
            "2023-09-26  519.000000  358.000000  737.000000  101.500000\n",
            "2023-09-27  522.000000  364.000000  737.000000  103.000000\n",
            "2023-09-28  523.000000  367.000000  735.000000  101.500000\n",
            "\n",
            "[910 rows x 4 columns]\n"
          ]
        },
        {
          "output_type": "execute_result",
          "data": {
            "text/plain": [
              "<Axes: xlabel='Date'>"
            ]
          },
          "metadata": {},
          "execution_count": 5
        },
        {
          "output_type": "display_data",
          "data": {
            "text/plain": [
              "<Figure size 640x480 with 1 Axes>"
            ],
            "image/png": "[encoded data removed]"
          },
          "metadata": {}
        }
      ]
    },
    {
      "cell_type": "markdown",
      "source": [
        "###Corresponding returns (linear returns)\n",
        "$\\large\\hspace{5mm} R_i(t)=\\frac{P_i(t)-P_i(t-1)}{P_i(t-1)}=\\frac{P_i(t)}{P_i(t-1)}-1$\n"
      ],
      "metadata": {
        "id": "drnulIgzygN_"
      }
    },
    {
      "cell_type": "code",
      "source": [
        "crpd_rtn = pd.DataFrame()\n",
        "for stock in stocks_list:\n",
        "  tmp=pd.DataFrame({stock:data[stock]})\n",
        "  i=1\n",
        "  for price in data[stock][:-1]:\n",
        "    tmp[stock][i]/=price\n",
        "    #tmp[stock][i]-=1\n",
        "    i+=1\n",
        "  tmp[stock][0]=1\n",
        "  crpd_rtn=pd.concat([crpd_rtn, tmp], axis=1)\n",
        "crpd_rtn"
      ],
      "metadata": {
        "colab": {
          "base_uri": "https://localhost:8080/",
          "height": 455
        },
        "id": "8ZfE-aT1hiT2",
        "outputId": "cf63b5ed-cb93-4512-dee8-446e803754ce"
      },
      "execution_count": null,
      "outputs": [
        {
          "output_type": "execute_result",
          "data": {
            "text/plain": [
              "             2330.TW   2357.TW   2454.TW   3231.TW\n",
              "Date                                              \n",
              "2020-01-02  1.000000  1.000000  1.000000  1.000000\n",
              "2020-01-03  1.001475  1.008621  0.984145  0.996479\n",
              "2020-01-06  0.977908  0.993590  0.975834  0.989399\n",
              "2020-01-07  0.992470  1.010753  1.004717  1.017857\n",
              "2020-01-08  1.000000  0.987234  1.010563  0.985965\n",
              "...              ...       ...       ...       ...\n",
              "2023-09-22  0.990512  1.007042  1.000000  1.019900\n",
              "2023-09-25  1.005747  1.005594  1.012064  1.004878\n",
              "2023-09-26  0.988571  0.995828  0.976159  0.985437\n",
              "2023-09-27  1.005780  1.016760  1.000000  1.014778\n",
              "2023-09-28  1.001916  1.008242  0.997286  0.985437\n",
              "\n",
              "[910 rows x 4 columns]"
            ],
            "text/html": [
              "\n",
              "  <div id=\"df-3af0d4e8-36a7-4823-a72b-2ea06d6377ce\" class=\"colab-df-container\">\n",
              "    <div>\n",
              "<style scoped>\n",
              "    .dataframe tbody tr th:only-of-type {\n",
              "        vertical-align: middle;\n",
              "    }\n",
              "\n",
              "    .dataframe tbody tr th {\n",
              "        vertical-align: top;\n",
              "    }\n",
              "\n",
              "    .dataframe thead th {\n",
              "        text-align: right;\n",
              "    }\n",
              "</style>\n",
              "<table border=\"1\" class=\"dataframe\">\n",
              "  <thead>\n",
              "    <tr style=\"text-align: right;\">\n",
              "      <th></th>\n",
              "      <th>2330.TW</th>\n",
              "      <th>2357.TW</th>\n",
              "      <th>2454.TW</th>\n",
              "      <th>3231.TW</th>\n",
              "    </tr>\n",
              "    <tr>\n",
              "      <th>Date</th>\n",
              "      <th></th>\n",
              "      <th></th>\n",
              "      <th></th>\n",
              "      <th></th>\n",
              "    </tr>\n",
              "  </thead>\n",
              "  <tbody>\n",
              "    <tr>\n",
              "      <th>2020-01-02</th>\n",
              "      <td>1.000000</td>\n",
              "      <td>1.000000</td>\n",
              "      <td>1.000000</td>\n",
              "      <td>1.000000</td>\n",
              "    </tr>\n",
              "    <tr>\n",
              "      <th>2020-01-03</th>\n",
              "      <td>1.001475</td>\n",
              "      <td>1.008621</td>\n",
              "      <td>0.984145</td>\n",
              "      <td>0.996479</td>\n",
              "    </tr>\n",
              "    <tr>\n",
              "      <th>2020-01-06</th>\n",
              "      <td>0.977908</td>\n",
              "      <td>0.993590</td>\n",
              "      <td>0.975834</td>\n",
              "      <td>0.989399</td>\n",
              "    </tr>\n",
              "    <tr>\n",
              "      <th>2020-01-07</th>\n",
              "      <td>0.992470</td>\n",
              "      <td>1.010753</td>\n",
              "      <td>1.004717</td>\n",
              "      <td>1.017857</td>\n",
              "    </tr>\n",
              "    <tr>\n",
              "      <th>2020-01-08</th>\n",
              "      <td>1.000000</td>\n",
              "      <td>0.987234</td>\n",
              "      <td>1.010563</td>\n",
              "      <td>0.985965</td>\n",
              "    </tr>\n",
              "    <tr>\n",
              "      <th>...</th>\n",
              "      <td>...</td>\n",
              "      <td>...</td>\n",
              "      <td>...</td>\n",
              "      <td>...</td>\n",
              "    </tr>\n",
              "    <tr>\n",
              "      <th>2023-09-22</th>\n",
              "      <td>0.990512</td>\n",
              "      <td>1.007042</td>\n",
              "      <td>1.000000</td>\n",
              "      <td>1.019900</td>\n",
              "    </tr>\n",
              "    <tr>\n",
              "      <th>2023-09-25</th>\n",
              "      <td>1.005747</td>\n",
              "      <td>1.005594</td>\n",
              "      <td>1.012064</td>\n",
              "      <td>1.004878</td>\n",
              "    </tr>\n",
              "    <tr>\n",
              "      <th>2023-09-26</th>\n",
              "      <td>0.988571</td>\n",
              "      <td>0.995828</td>\n",
              "      <td>0.976159</td>\n",
              "      <td>0.985437</td>\n",
              "    </tr>\n",
              "    <tr>\n",
              "      <th>2023-09-27</th>\n",
              "      <td>1.005780</td>\n",
              "      <td>1.016760</td>\n",
              "      <td>1.000000</td>\n",
              "      <td>1.014778</td>\n",
              "    </tr>\n",
              "    <tr>\n",
              "      <th>2023-09-28</th>\n",
              "      <td>1.001916</td>\n",
              "      <td>1.008242</td>\n",
              "      <td>0.997286</td>\n",
              "      <td>0.985437</td>\n",
              "    </tr>\n",
              "  </tbody>\n",
              "</table>\n",
              "<p>910 rows × 4 columns</p>\n",
              "</div>\n",
              "    <div class=\"colab-df-buttons\">\n",
              "\n",
              "  <div class=\"colab-df-container\">\n",
              "    <button class=\"colab-df-convert\" onclick=\"convertToInteractive('df-3af0d4e8-36a7-4823-a72b-2ea06d6377ce')\"\n",
              "            title=\"Convert this dataframe to an interactive table.\"\n",
              "            style=\"display:none;\">\n",
              "\n",
              "  <svg xmlns=\"http://www.w3.org/2000/svg\" height=\"24px\" viewBox=\"0 -960 960 960\">\n",
              "    <path d=\"M120-120v-720h720v720H120Zm60-500h600v-160H180v160Zm220 220h160v-160H400v160Zm0 220h160v-160H400v160ZM180-400h160v-160H180v160Zm440 0h160v-160H620v160ZM180-180h160v-160H180v160Zm440 0h160v-160H620v160Z\"/>\n",
              "  </svg>\n",
              "    </button>\n",
              "\n",
              "  <style>\n",
              "    .colab-df-container {\n",
              "      display:flex;\n",
              "      gap: 12px;\n",
              "    }\n",
              "\n",
              "    .colab-df-convert {\n",
              "      background-color: #E8F0FE;\n",
              "      border: none;\n",
              "      border-radius: 50%;\n",
              "      cursor: pointer;\n",
              "      display: none;\n",
              "      fill: #1967D2;\n",
              "      height: 32px;\n",
              "      padding: 0 0 0 0;\n",
              "      width: 32px;\n",
              "    }\n",
              "\n",
              "    .colab-df-convert:hover {\n",
              "      background-color: #E2EBFA;\n",
              "      box-shadow: 0px 1px 2px rgba(60, 64, 67, 0.3), 0px 1px 3px 1px rgba(60, 64, 67, 0.15);\n",
              "      fill: #174EA6;\n",
              "    }\n",
              "\n",
              "    .colab-df-buttons div {\n",
              "      margin-bottom: 4px;\n",
              "    }\n",
              "\n",
              "    [theme=dark] .colab-df-convert {\n",
              "      background-color: #3B4455;\n",
              "      fill: #D2E3FC;\n",
              "    }\n",
              "\n",
              "    [theme=dark] .colab-df-convert:hover {\n",
              "      background-color: #434B5C;\n",
              "      box-shadow: 0px 1px 3px 1px rgba(0, 0, 0, 0.15);\n",
              "      filter: drop-shadow(0px 1px 2px rgba(0, 0, 0, 0.3));\n",
              "      fill: #FFFFFF;\n",
              "    }\n",
              "  </style>\n",
              "\n",
              "    <script>\n",
              "      const buttonEl =\n",
              "        document.querySelector('#df-3af0d4e8-36a7-4823-a72b-2ea06d6377ce button.colab-df-convert');\n",
              "      buttonEl.style.display =\n",
              "        google.colab.kernel.accessAllowed ? 'block' : 'none';\n",
              "\n",
              "      async function convertToInteractive(key) {\n",
              "        const element = document.querySelector('#df-3af0d4e8-36a7-4823-a72b-2ea06d6377ce');\n",
              "        const dataTable =\n",
              "          await google.colab.kernel.invokeFunction('convertToInteractive',\n",
              "                                                    [key], {});\n",
              "        if (!dataTable) return;\n",
              "\n",
              "        const docLinkHtml = 'Like what you see? Visit the ' +\n",
              "          '<a target=\"_blank\" href=https://colab.research.google.com/notebooks/data_table.ipynb>data table notebook</a>'\n",
              "          + ' to learn more about interactive tables.';\n",
              "        element.innerHTML = '';\n",
              "        dataTable['output_type'] = 'display_data';\n",
              "        await google.colab.output.renderOutput(dataTable, element);\n",
              "        const docLink = document.createElement('div');\n",
              "        docLink.innerHTML = docLinkHtml;\n",
              "        element.appendChild(docLink);\n",
              "      }\n",
              "    </script>\n",
              "  </div>\n",
              "\n",
              "\n",
              "<div id=\"df-8335441a-1029-4f4b-8de1-09c53005a429\">\n",
              "  <button class=\"colab-df-quickchart\" onclick=\"quickchart('df-8335441a-1029-4f4b-8de1-09c53005a429')\"\n",
              "            title=\"Suggest charts\"\n",
              "            style=\"display:none;\">\n",
              "\n",
              "<svg xmlns=\"http://www.w3.org/2000/svg\" height=\"24px\"viewBox=\"0 0 24 24\"\n",
              "     width=\"24px\">\n",
              "    <g>\n",
              "        <path d=\"M19 3H5c-1.1 0-2 .9-2 2v14c0 1.1.9 2 2 2h14c1.1 0 2-.9 2-2V5c0-1.1-.9-2-2-2zM9 17H7v-7h2v7zm4 0h-2V7h2v10zm4 0h-2v-4h2v4z\"/>\n",
              "    </g>\n",
              "</svg>\n",
              "  </button>\n",
              "\n",
              "<style>\n",
              "  .colab-df-quickchart {\n",
              "      --bg-color: #E8F0FE;\n",
              "      --fill-color: #1967D2;\n",
              "      --hover-bg-color: #E2EBFA;\n",
              "      --hover-fill-color: #174EA6;\n",
              "      --disabled-fill-color: #AAA;\n",
              "      --disabled-bg-color: #DDD;\n",
              "  }\n",
              "\n",
              "  [theme=dark] .colab-df-quickchart {\n",
              "      --bg-color: #3B4455;\n",
              "      --fill-color: #D2E3FC;\n",
              "      --hover-bg-color: #434B5C;\n",
              "      --hover-fill-color: #FFFFFF;\n",
              "      --disabled-bg-color: #3B4455;\n",
              "      --disabled-fill-color: #666;\n",
              "  }\n",
              "\n",
              "  .colab-df-quickchart {\n",
              "    background-color: var(--bg-color);\n",
              "    border: none;\n",
              "    border-radius: 50%;\n",
              "    cursor: pointer;\n",
              "    display: none;\n",
              "    fill: var(--fill-color);\n",
              "    height: 32px;\n",
              "    padding: 0;\n",
              "    width: 32px;\n",
              "  }\n",
              "\n",
              "  .colab-df-quickchart:hover {\n",
              "    background-color: var(--hover-bg-color);\n",
              "    box-shadow: 0 1px 2px rgba(60, 64, 67, 0.3), 0 1px 3px 1px rgba(60, 64, 67, 0.15);\n",
              "    fill: var(--button-hover-fill-color);\n",
              "  }\n",
              "\n",
              "  .colab-df-quickchart-complete:disabled,\n",
              "  .colab-df-quickchart-complete:disabled:hover {\n",
              "    background-color: var(--disabled-bg-color);\n",
              "    fill: var(--disabled-fill-color);\n",
              "    box-shadow: none;\n",
              "  }\n",
              "\n",
              "  .colab-df-spinner {\n",
              "    border: 2px solid var(--fill-color);\n",
              "    border-color: transparent;\n",
              "    border-bottom-color: var(--fill-color);\n",
              "    animation:\n",
              "      spin 1s steps(1) infinite;\n",
              "  }\n",
              "\n",
              "  @keyframes spin {\n",
              "    0% {\n",
              "      border-color: transparent;\n",
              "      border-bottom-color: var(--fill-color);\n",
              "      border-left-color: var(--fill-color);\n",
              "    }\n",
              "    20% {\n",
              "      border-color: transparent;\n",
              "      border-left-color: var(--fill-color);\n",
              "      border-top-color: var(--fill-color);\n",
              "    }\n",
              "    30% {\n",
              "      border-color: transparent;\n",
              "      border-left-color: var(--fill-color);\n",
              "      border-top-color: var(--fill-color);\n",
              "      border-right-color: var(--fill-color);\n",
              "    }\n",
              "    40% {\n",
              "      border-color: transparent;\n",
              "      border-right-color: var(--fill-color);\n",
              "      border-top-color: var(--fill-color);\n",
              "    }\n",
              "    60% {\n",
              "      border-color: transparent;\n",
              "      border-right-color: var(--fill-color);\n",
              "    }\n",
              "    80% {\n",
              "      border-color: transparent;\n",
              "      border-right-color: var(--fill-color);\n",
              "      border-bottom-color: var(--fill-color);\n",
              "    }\n",
              "    90% {\n",
              "      border-color: transparent;\n",
              "      border-bottom-color: var(--fill-color);\n",
              "    }\n",
              "  }\n",
              "</style>\n",
              "\n",
              "  <script>\n",
              "    async function quickchart(key) {\n",
              "      const quickchartButtonEl =\n",
              "        document.querySelector('#' + key + ' button');\n",
              "      quickchartButtonEl.disabled = true;  // To prevent multiple clicks.\n",
              "      quickchartButtonEl.classList.add('colab-df-spinner');\n",
              "      try {\n",
              "        const charts = await google.colab.kernel.invokeFunction(\n",
              "            'suggestCharts', [key], {});\n",
              "      } catch (error) {\n",
              "        console.error('Error during call to suggestCharts:', error);\n",
              "      }\n",
              "      quickchartButtonEl.classList.remove('colab-df-spinner');\n",
              "      quickchartButtonEl.classList.add('colab-df-quickchart-complete');\n",
              "    }\n",
              "    (() => {\n",
              "      let quickchartButtonEl =\n",
              "        document.querySelector('#df-8335441a-1029-4f4b-8de1-09c53005a429 button');\n",
              "      quickchartButtonEl.style.display =\n",
              "        google.colab.kernel.accessAllowed ? 'block' : 'none';\n",
              "    })();\n",
              "  </script>\n",
              "</div>\n",
              "    </div>\n",
              "  </div>\n"
            ]
          },
          "metadata": {},
          "execution_count": 6
        }
      ]
    },
    {
      "cell_type": "code",
      "source": [
        "crpd_rtn.cumprod(axis = 0).plot()"
      ],
      "metadata": {
        "colab": {
          "base_uri": "https://localhost:8080/",
          "height": 450
        },
        "id": "kplHKioal9w-",
        "outputId": "ac3400ca-ee91-49c7-95c1-54322398588e"
      },
      "execution_count": null,
      "outputs": [
        {
          "output_type": "execute_result",
          "data": {
            "text/plain": [
              "<Axes: xlabel='Date'>"
            ]
          },
          "metadata": {},
          "execution_count": 7
        },
        {
          "output_type": "display_data",
          "data": {
            "text/plain": [
              "<Figure size 640x480 with 1 Axes>"
            ],
            "image/png": "[encoded data removed]"
          },
          "metadata": {}
        }
      ]
    },
    {
      "cell_type": "markdown",
      "source": [
        "###Mean returns\n",
        "$\\large\\hspace{5mm} \\mu_i=\\frac{1}{M}\\sum_{t=1}^MR_i(t)$\n",
        "###Expected returns\n",
        "$\\large\\hspace{5mm} \\mu=(\\mu_1,\\mu_2,...,\\mu_N)^T$"
      ],
      "metadata": {
        "id": "eCy4_d4QlvcA"
      }
    },
    {
      "cell_type": "code",
      "source": [
        "def get_e_rtn(arg_crpd_rtn):\n",
        "  f_expected_rtn=arg_crpd_rtn.mean()\n",
        "  return f_expected_rtn\n",
        "expected_rtn=get_e_rtn(crpd_rtn)"
      ],
      "metadata": {
        "id": "NmyRH0tQg_0R"
      },
      "execution_count": null,
      "outputs": []
    },
    {
      "cell_type": "markdown",
      "source": [
        "###Correlation matrix (correlation between asset i and asset j)\n",
        "$\\large\\hspace{5mm}\\rho_{i,j}$\n",
        "###Volatility of asset i (standard deviation)\n",
        "$\\large\\hspace{5mm}\\sigma_i$\n",
        "###Covariance matrix of asset returns\n",
        "$\\large\\hspace{5mm} \\Sigma_{i,j}=\\rho_{i,j}\\sigma_i\\sigma_j$"
      ],
      "metadata": {
        "id": "P9r4lnz2zAKY"
      }
    },
    {
      "cell_type": "code",
      "source": [
        "def get_crl_matrix(arg_crpd_rtn):\n",
        "  f_correlation_matrix = np.corrcoef(arg_crpd_rtn,None,False)\n",
        "  return f_correlation_matrix\n",
        "def get_std(arg_crpd_rtn):\n",
        "  f_std_dev = np.std(arg_crpd_rtn)\n",
        "  return f_std_dev\n",
        "def get_cov(arg_crpd_rtn):\n",
        "  f_correlation_matrix=get_crl_matrix(arg_crpd_rtn)\n",
        "  f_std_dev=get_std(arg_crpd_rtn)\n",
        "  f_covariance_matrix = np.zeros([N,N])\n",
        "  for i in range(N):\n",
        "    for j in range(N):\n",
        "      f_covariance_matrix[i][j]=f_correlation_matrix[i][j]*f_std_dev[i]*f_std_dev[j]\n",
        "  return f_covariance_matrix"
      ],
      "metadata": {
        "id": "Ty3TC-UmwCRA"
      },
      "execution_count": null,
      "outputs": []
    },
    {
      "cell_type": "code",
      "source": [
        "correlation_matrix=get_crl_matrix(crpd_rtn)\n",
        "print(correlation_matrix)\n",
        "std_dev=get_std(crpd_rtn)\n",
        "print(std_dev)\n",
        "covariance_matrix=get_cov(crpd_rtn)\n",
        "print(covariance_matrix)"
      ],
      "metadata": {
        "colab": {
          "base_uri": "https://localhost:8080/"
        },
        "id": "04uF4j2pAf3k",
        "outputId": "14d3e94c-0e2d-432d-b694-346cf71d52c0"
      },
      "execution_count": null,
      "outputs": [
        {
          "output_type": "stream",
          "name": "stdout",
          "text": [
            "[[1.         0.31567585 0.54784267 0.28542197]\n",
            " [0.31567585 1.         0.24134575 0.33636711]\n",
            " [0.54784267 0.24134575 1.         0.18037039]\n",
            " [0.28542197 0.33636711 0.18037039 1.        ]]\n",
            "2330.TW    0.017668\n",
            "2357.TW    0.017332\n",
            "2454.TW    0.024861\n",
            "3231.TW    0.022527\n",
            "dtype: float64\n",
            "[[3.12148502e-04 9.66639010e-05 2.40632429e-04 1.13595990e-04]\n",
            " [9.66639010e-05 3.00389443e-04 1.03991936e-04 1.31326035e-04]\n",
            " [2.40632429e-04 1.03991936e-04 6.18066689e-04 1.01013142e-04]\n",
            " [1.13595990e-04 1.31326035e-04 1.01013142e-04 5.07446144e-04]]\n"
          ]
        }
      ]
    },
    {
      "cell_type": "markdown",
      "source": [
        "###Portfolio volatility\n",
        "$\\large\\hspace{5mm} \\sigma(\\mathcal{w})=\\sqrt{\\mathcal{w}^T\\Sigma\\mathcal{w}}$\n",
        "###Standard deviation-based risk measure\n",
        "$\\large\\hspace{5mm} \\mathcal{R}(\\mathcal{w})=-\\mathcal{w}^T(\\mu-r)+c\\cdot\\sigma(\\mathcal{w})$\n",
        "###where c is a scalar that measures the trade-off between the expected return of the portfolio and its volatility.\n",
        "###Risk budget\n",
        "$\\large\\hspace{5mm} b_i\\gt0,\\hspace{5mm}\\sum_{i=1}^Nb_i=1$\n",
        "###Risk contribution of asset $i$\n",
        "$\\large\\hspace{5mm} \\mathcal{R}\\mathcal{C}_i(\\mathcal{w})=\\mathcal{w}_i\\cdot(-(\\mu_i-r)+c\\cdot\\frac{(\\Sigma\\mathcal{w})_i}{\\sigma(\\mathcal{w})})=b_i\\mathcal{R}(\\mathcal{w})$\n",
        "##**Remark:**\n",
        "###1. Roncalli (2015):\n",
        "$\\large\\hspace{5mm} RBP\\hspace{5mm}exists\\hspace{5mm}and\\hspace{5mm}unique \\hspace{5mm}if\\hspace{5mm}c \\gt SR^+$\n",
        "\n",
        "$\\large\\hspace{5mm} where\\hspace{5mm}SR^+=max\\lbrace sup\\hspace{2mm}SR(\\mathcal{w}|r),\\hspace{2mm}0 \\rbrace\\hspace{5mm}for\\hspace{5mm}\\mathcal{w}\\in\\lbrack0,1\\rbrack^n$\n",
        "###2. The original Equal Risk Contribution(ERC) portfolio is obtained by considering the volatility risk measure and the same risk budgets.\n",
        "$\\large\\hspace{5mm} i.e. \\mu_i=r , c=1 , b_i=\\frac{1}{N}$\n",
        "###Then we have\n",
        "$\\large\\hspace{5mm} \\mathcal{R}\\mathcal{C}_i(\\mathcal{w})=\\frac{1}{N}\\sigma(\\mathcal{w})$"
      ],
      "metadata": {
        "id": "Dr33vy6qPLYg"
      }
    },
    {
      "cell_type": "code",
      "source": [
        "#parameters\n",
        "#ERC\n",
        "r=expected_rtn\n",
        "c=1\n",
        "risk_budget=np.ones(N)\n",
        "risk_budget/=N\n",
        "\n",
        "def get_pvol(arg_w):\n",
        "  \"\"\"Get the portfolio volatility: (w.T * cov * w.)**0.5 \"\"\"\n",
        "  sigma=(arg_w.T.dot(covariance_matrix.dot(arg_w)))**0.5\n",
        "  return sigma\n",
        "def std_dev_b_risk_measure(arg_w):\n",
        "  \"\"\"Get the standard deviation-based risk measure: R(w)\"\"\"\n",
        "  R=-arg_w.T.dot(expected_rtn-r)+c*get_pvol(arg_w)\n",
        "  return R\n",
        "def risk_contribution(arg_w):\n",
        "  \"\"\"Get the risk contribution: RCi(w)\"\"\"\n",
        "  RC=np.zeros(N)\n",
        "  for i in range(N):\n",
        "    RCi=arg_w[i]*(-(expected_rtn-r)+c*(covariance_matrix.dot(arg_w)[i])/get_pvol(arg_w))\n",
        "    #RCi=risk_budget[i]*std_dev_b_risk_measure(arg_w)\n",
        "    RC[i]+=RCi[0]\n",
        "  return RC"
      ],
      "metadata": {
        "id": "G6DM5ILPy7YL"
      },
      "execution_count": null,
      "outputs": []
    },
    {
      "cell_type": "code",
      "source": [
        "w_test=np.ones(N)\n",
        "w_test[0]*=0.25\n",
        "w_test[1]*=0.25\n",
        "w_test[2]*=0.25\n",
        "w_test[3]*=0.25\n",
        "\n",
        "#print(std_dev_b_risk_measure(w_test))\n",
        "#print(risk_contribution(w_test))\n"
      ],
      "metadata": {
        "id": "sIub0bQoZQ76"
      },
      "execution_count": null,
      "outputs": []
    },
    {
      "cell_type": "markdown",
      "source": [
        "###Roncalli (2013):\n",
        "$\\large\\hspace{5mm} \\mathcal{w}_{RB}=arg\\hspace{2mm}min\\hspace{2mm}\\mathcal{R}(\\mathcal{w})$\n",
        "$\\large\\hspace{5mm} s.t. \\sum_{i=1}^Nb_iln(\\mathcal{w}_i)\\geq\\kappa^* \\hspace{5mm}\\kappa^*\\hspace{2mm}is\\hspace{2mm}constant$\n",
        "###Using the Lagrange formulation\n",
        "$\\large\\hspace{5mm}\\mathcal{w}^*(\\lambda)=arg\\hspace{2mm}min\\hspace{2mm}\\mathcal{R}(\\mathcal{w})-\\lambda\\sum_{i=1}^Nb_iln(\\mathcal{w}_i)\\tag1$\n",
        "\n",
        "$\\large\\hspace{5mm} \\lambda\\hspace{2mm}is\\hspace{2mm}an\\hspace{2mm}arbitrary\\hspace{2mm}constant$\n",
        "\n",
        "$\\large\\hspace{5mm} \\mathcal{w}_{RB}=\\frac{\\mathcal{w}^*(\\lambda)}{1^T\\mathcal{w}^*(\\lambda)}$"
      ],
      "metadata": {
        "id": "zV1hv7SQndsd"
      }
    },
    {
      "cell_type": "markdown",
      "source": [
        "##The Newton algorithm(may be improved)\n",
        "###Spinu (2013) solving (1) by the Newton algorithm\n",
        "$\\large\\hspace{5mm} \\mathcal{w}^{(k+1)}=\\mathcal{w}^{(k)}-\\eta^{(k)}(\\frac{\\partial^2f(\\mathcal{w}^{(k)})}{\\partial\\mathcal{w}\\hspace{2mm}\\partial\\mathcal{w}^T})^{-1} \\hspace{2mm}\\frac{\\partial f(\\mathcal{w}^{(k)})}{\\partial\\mathcal{w}}$\n",
        "\n",
        "where $\\eta^{(k)}\\in\\lbrack0,1\\rbrack$ is the step size and $k$ is the iteration index.\n",
        "generally, we set $\\eta^{(k)}=1$\n",
        "\n",
        "\n",
        "###The first and second derivatives are computed using the following analytical expressions\n",
        "$\\large\\hspace{5mm} \\frac{\\partial f(\\mathcal{w})}{\\partial\\mathcal{w}_i}=\\frac{\\mathcal{R}\\mathcal{C}_i(\\mathcal{w})}{\\mathcal{w}_i}-\\lambda\\frac{b_i}{\\mathcal{w}_i}$\n",
        "\n",
        "$\\large\\hspace{5mm} \\frac{\\partial^2 f(\\mathcal{w})}{\\partial\\mathcal{w}_i\\partial\\mathcal{w}_j}=\\frac{c}{\\sigma(\\mathcal{w})}(\\Sigma_{i,j}-\\frac{(\\Sigma\\mathcal{w})_i(\\Sigma\\mathcal{w})_j}{\\sigma^2(\\mathcal{w})})$\n",
        "\n",
        "$\\large\\hspace{5mm}\\frac{\\partial^2 f(\\mathcal{w})}{\\partial\\mathcal{w}_i^2}=\\frac{c}{\\sigma(\\mathcal{w})}(\\sigma_i^2-\\frac{(\\Sigma\\mathcal{w})_i^2}{\\sigma^2(\\mathcal{w})})+\\lambda\\frac{b_i}{\\mathcal{w}_i^2}$\n"
      ],
      "metadata": {
        "id": "woyNTYAq3F1v"
      }
    },
    {
      "cell_type": "code",
      "source": [
        "ld=1\n",
        "\n",
        "def get_df(arg_w):\n",
        "  df = np.zeros(N)\n",
        "  RC=risk_contribution(arg_w)\n",
        "  for i in range(N):\n",
        "    df[i]=RC[i]/arg_w[i]-ld*(risk_budget[i]/arg_w[i])\n",
        "\n",
        "  return df\n",
        "\n",
        "def get_ddf(arg_w):\n",
        "  ddf = np.zeros([N,N])\n",
        "  for i in range(N):\n",
        "    for j in range(N):\n",
        "      if j==i:\n",
        "        ddf[i][j]=(c/get_pvol(arg_w))*\\\n",
        "              (std_dev[i]**2-((covariance_matrix.dot(arg_w)[i])**2/(get_pvol(arg_w)**2)))+\\\n",
        "                ld*risk_budget[i]/arg_w[i]**2\n",
        "      else:\n",
        "        ddf[i][j]=(c/get_pvol(arg_w))*\\\n",
        "              (covariance_matrix[i][j]-((covariance_matrix.dot(arg_w)[i])*(covariance_matrix.dot(arg_w)[j]))/(get_pvol(arg_w)**2))\n",
        "  return ddf\n",
        "\n",
        "def netwon(arg_w0,tor,Nmax):\n",
        "  w=[arg_w0]\n",
        "  error=1\n",
        "  for i in range(Nmax):\n",
        "    if error < tor:\n",
        "      break\n",
        "    tmp=w[i]-np.linalg.inv(get_ddf(w[i])).dot(get_df(w[i]))\n",
        "    w.append(tmp)\n",
        "    error=abs(sum(w[i]-w[i-1]))\n",
        "  return w[-1]/np.sum(w[-1])\n",
        "\n",
        "#df(w_test)\n",
        "\n",
        "w_newton=(netwon(w_test,10**-11,100))\n",
        "w_newton\n"
      ],
      "metadata": {
        "id": "r3qUouMXMwfR",
        "colab": {
          "base_uri": "https://localhost:8080/"
        },
        "outputId": "eb0deaa3-8d98-4041-880c-bba9150b01ff"
      },
      "execution_count": null,
      "outputs": [
        {
          "output_type": "execute_result",
          "data": {
            "text/plain": [
              "array([0.26453106, 0.29647103, 0.20283464, 0.23616327])"
            ]
          },
          "metadata": {},
          "execution_count": 13
        }
      ]
    },
    {
      "cell_type": "markdown",
      "source": [
        "##The CCD algorithm\n",
        "###The descent algorithm\n",
        "$\\large\\hspace{5mm} \\mathcal{w}^{(k+1)}=\\mathcal{w}^{(k)}+\\Delta\\mathcal{w}^{(k)}=\\mathcal{w}^{(k)}-\\eta D^{(k)}$\n",
        "###The coordinate descent algorithm\n",
        "$\\large\\hspace{5mm} \\mathcal{w}_i^{(k+1)}=\\mathcal{w}_i^{(k)}+\\Delta\\mathcal{w}_i^{(k)}=\\mathcal{w}_i^{(k)}-\\eta D_i^{(k)}$\n",
        "\n",
        "Concerning the choice of the variable i, there are two approaches:\n",
        "\n",
        "random coordinate descent or RCD (Nesterov, 2012)\n",
        "\n",
        "cyclical coordinate descent or CCD (Tseng, 2001)\n",
        "###The CCD algorithm\n",
        "$\\large\\hspace{5mm} \\mathcal{w}_i^{(k+1)}=arg\\hspace{2mm} min f(\\mathcal{w}_1^{(k+1)} ,...,\\mathcal{w}_{i-1}^{(k+1)},\\mathcal{w},\\mathcal{w}_{i+1}^{(k+1)},...,\\mathcal{w}_N^{(k+1)})$\n",
        "\n",
        "Griveau-Billion et al. (2013), solving (1) by the CCD algorithm\n",
        "\n",
        "$\\large\\hspace{5mm} \\mathcal{w}_i=\\frac{-c(\\sigma_i\\sum_{j\\neq i}\n",
        "\\mathcal{w}_j\\rho_{i,j}\\sigma_j)+(\\mu_i-r)\\sigma(\\mathcal{w})+\\sqrt{(c(\\sigma_i\\sum_{j\\neq i}\n",
        "\\mathcal{w}_j\\rho_{i,j}\\sigma_j)-(\\mu_i-r)\\sigma(\\mathcal{w}))^2+4\\lambda cb_i\\sigma_i^2\\sigma(\\mathcal{w})}}{2c\\sigma_i^2}$\n",
        "can be simplified by setting $\\lambda=1$"
      ],
      "metadata": {
        "id": "SJrQcvfnMw76"
      }
    },
    {
      "cell_type": "code",
      "source": [
        "def ccd(arg_w0,tor,Nmax):\n",
        "  w=[arg_w0]\n",
        "  error=1\n",
        "  for k in range(Nmax):\n",
        "    if error < tor:\n",
        "      break\n",
        "    tmp=np.zeros(N)\n",
        "    for i in range(N):\n",
        "      sigma=get_pvol(w[k])\n",
        "      wps=0\n",
        "      for j in range(N):\n",
        "        if j==i:\n",
        "          continue\n",
        "        wps+=w[k][j]*\\\n",
        "          correlation_matrix[i][j]*\\\n",
        "          std_dev[j]\n",
        "      #print(-c*(std_dev[i]*wps)/(2*c*std_dev[i]*std_dev[i]))\n",
        "      #print((expected_rtn-r)[i]*sigma/(2*c*std_dev[i]*std_dev[i]))\n",
        "      #print(((c*(std_dev[i]*wps)-(expected_rtn-r)[i]*sigma)**2+ \\\n",
        "      #    (4*ld*c*risk_budget[i]*std_dev[i]*std_dev[i]*sigma))**(1/2)/ \\\n",
        "      #      (2*c*std_dev[i]*std_dev[i]))\n",
        "      tmp[i]=-c*(std_dev[i]*wps)/(2*c*std_dev[i]*std_dev[i])+ \\\n",
        "          (expected_rtn-r)[i]*sigma/(2*c*std_dev[i]*std_dev[i])+ \\\n",
        "          ((c*(std_dev[i]*wps)-(expected_rtn-r)[i]*sigma)**2+ \\\n",
        "            (4*ld*c*risk_budget[i]*std_dev[i]*std_dev[i]*sigma))**(1/2)/ \\\n",
        "              (2*c*std_dev[i]*std_dev[i])\n",
        "    w.append(tmp)\n",
        "    error=abs(sum(w[k]-w[k-1]))\n",
        "  return w[-1]/np.sum(w[-1])\n",
        "w_ccd=ccd(w_test,10**-11,100)\n",
        "w_ccd"
      ],
      "metadata": {
        "id": "x5vMdQEkQKp2",
        "colab": {
          "base_uri": "https://localhost:8080/"
        },
        "outputId": "f7396360-2621-4d22-8f7c-4a8ea111ad09"
      },
      "execution_count": null,
      "outputs": [
        {
          "output_type": "execute_result",
          "data": {
            "text/plain": [
              "array([0.26453106, 0.29647103, 0.20283464, 0.23616327])"
            ]
          },
          "metadata": {},
          "execution_count": 14
        }
      ]
    },
    {
      "cell_type": "markdown",
      "source": [
        "##Code in paper"
      ],
      "metadata": {
        "id": "ooTbdBFsfGki"
      }
    },
    {
      "cell_type": "code",
      "source": [
        "%pip install git+https://github.com/jcrichard/pyrb"
      ],
      "metadata": {
        "colab": {
          "base_uri": "https://localhost:8080/"
        },
        "id": "QAKMaImOa6QY",
        "outputId": "cdd88bdf-fc7d-4689-9fd6-32f44632d7a5"
      },
      "execution_count": null,
      "outputs": [
        {
          "output_type": "stream",
          "name": "stdout",
          "text": [
            "Collecting git+https://github.com/jcrichard/pyrb\n",
            "  Cloning https://github.com/jcrichard/pyrb to /tmp/pip-req-build-uvo2swhz\n",
            "  Running command git clone --filter=blob:none --quiet https://github.com/jcrichard/pyrb /tmp/pip-req-build-uvo2swhz\n",
            "  Resolved https://github.com/jcrichard/pyrb to commit 250054efe02ce48cd1ae1ef72f8d808951af5a53\n",
            "  Preparing metadata (setup.py) ... \u001b[?25l\u001b[?25hdone\n",
            "Requirement already satisfied: pandas>=0.19 in /usr/local/lib/python3.10/dist-packages (from pyrb==1.0.1) (1.5.3)\n",
            "Requirement already satisfied: numba>=0.4 in /usr/local/lib/python3.10/dist-packages (from pyrb==1.0.1) (0.58.1)\n",
            "Collecting quadprog>=0.1.0 (from pyrb==1.0.1)\n",
            "  Downloading quadprog-0.1.11-cp310-cp310-manylinux_2_17_x86_64.manylinux2014_x86_64.whl (452 kB)\n",
            "\u001b[2K     \u001b[90m━━━━━━━━━━━━━━━━━━━━━━━━━━━━━━━━━━━━━━━━\u001b[0m \u001b[32m452.8/452.8 kB\u001b[0m \u001b[31m7.2 MB/s\u001b[0m eta \u001b[36m0:00:00\u001b[0m\n",
            "\u001b[?25hRequirement already satisfied: llvmlite<0.42,>=0.41.0dev0 in /usr/local/lib/python3.10/dist-packages (from numba>=0.4->pyrb==1.0.1) (0.41.1)\n",
            "Requirement already satisfied: numpy<1.27,>=1.22 in /usr/local/lib/python3.10/dist-packages (from numba>=0.4->pyrb==1.0.1) (1.23.5)\n",
            "Requirement already satisfied: python-dateutil>=2.8.1 in /usr/local/lib/python3.10/dist-packages (from pandas>=0.19->pyrb==1.0.1) (2.8.2)\n",
            "Requirement already satisfied: pytz>=2020.1 in /usr/local/lib/python3.10/dist-packages (from pandas>=0.19->pyrb==1.0.1) (2023.3.post1)\n",
            "Requirement already satisfied: six>=1.5 in /usr/local/lib/python3.10/dist-packages (from python-dateutil>=2.8.1->pandas>=0.19->pyrb==1.0.1) (1.16.0)\n",
            "Building wheels for collected packages: pyrb\n",
            "  Building wheel for pyrb (setup.py) ... \u001b[?25l\u001b[?25hdone\n",
            "  Created wheel for pyrb: filename=pyrb-1.0.1-py3-none-any.whl size=10092 sha256=496b8f0f75aa7310925dbb1a8c7fa6c5c821feba6d4afb0177c8e1c45aa225cd\n",
            "  Stored in directory: /tmp/pip-ephem-wheel-cache-vdjgn7ug/wheels/94/4d/41/c3b52414ed8ab6e4b71a6bcd4637f9049b4854605909e08d37\n",
            "Successfully built pyrb\n",
            "Installing collected packages: quadprog, pyrb\n",
            "Successfully installed pyrb-1.0.1 quadprog-0.1.11\n"
          ]
        }
      ]
    },
    {
      "cell_type": "code",
      "source": [
        "from pyrb import EqualRiskContribution as erc\n",
        "\n",
        "ERC = erc(covariance_matrix)\n",
        "ERC.solve()\n",
        "w_pyrb_ERC = ERC.x\n",
        "print(w_pyrb_ERC)\n",
        "print(w_newton)\n",
        "print(w_ccd)"
      ],
      "metadata": {
        "colab": {
          "base_uri": "https://localhost:8080/"
        },
        "id": "3s5aBslHwwi1",
        "outputId": "c93f345d-7af1-4fa7-e627-7c0441248bc1"
      },
      "execution_count": null,
      "outputs": [
        {
          "output_type": "stream",
          "name": "stderr",
          "text": [
            "/usr/local/lib/python3.10/dist-packages/pyrb/solvers.py:57: NumbaPerformanceWarning: np.dot() is faster on contiguous arrays, called on (Array(float64, 2, 'A', False, aligned=True), Array(float64, 1, 'A', False, aligned=True))\n",
            "  Sx = np.dot(cov, x)\n",
            "/usr/local/lib/python3.10/dist-packages/pyrb/solvers.py:58: NumbaPerformanceWarning: np.dot() is faster on contiguous arrays, called on (Array(float64, 1, 'C', False, aligned=True), Array(float64, 1, 'A', False, aligned=True))\n",
            "  sigma_x = np.sqrt(np.dot(Sx, x))\n"
          ]
        },
        {
          "output_type": "stream",
          "name": "stdout",
          "text": [
            "[0.26453105 0.29647103 0.20283464 0.23616328]\n",
            "[0.26453106 0.29647103 0.20283464 0.23616327]\n",
            "[0.26453106 0.29647103 0.20283464 0.23616327]\n"
          ]
        }
      ]
    },
    {
      "cell_type": "markdown",
      "source": [
        "---"
      ],
      "metadata": {
        "id": "ODqHAUNUpeoC"
      }
    },
    {
      "cell_type": "code",
      "source": [
        "train_date_len=365\n",
        "def weekly_change():\n",
        "  interval=7\n",
        "  f_w_newton=[]\n",
        "  for i in range(train_date_len,M):\n",
        "    if i%interval==0:\n",
        "      f_expected_rtn=get_e_rtn(crpd_rtn[:i])\n",
        "      correlation_matrix=get_crl_matrix(crpd_rtn[:i])\n",
        "      std_dev=get_std(crpd_rtn[:i])\n",
        "      covariance_matrix=get_cov(crpd_rtn[:i])\n",
        "      f_w_newton.append(netwon(w_test,10**-11,100))\n",
        "  return f_w_newton\n",
        "weekly_change()"
      ],
      "metadata": {
        "id": "czoWU97ACR5u",
        "colab": {
          "base_uri": "https://localhost:8080/"
        },
        "outputId": "a81f5a27-9cbf-4947-a6c2-39761f7f8c7b"
      },
      "execution_count": null,
      "outputs": [
        {
          "output_type": "execute_result",
          "data": {
            "text/plain": [
              "[array([0.26453106, 0.29647103, 0.20283464, 0.23616327]),\n",
              " array([0.26453106, 0.29647103, 0.20283464, 0.23616327]),\n",
              " array([0.26453106, 0.29647103, 0.20283464, 0.23616327]),\n",
              " array([0.26453106, 0.29647103, 0.20283464, 0.23616327]),\n",
              " array([0.26453106, 0.29647103, 0.20283464, 0.23616327]),\n",
              " array([0.26453106, 0.29647103, 0.20283464, 0.23616327]),\n",
              " array([0.26453106, 0.29647103, 0.20283464, 0.23616327]),\n",
              " array([0.26453106, 0.29647103, 0.20283464, 0.23616327]),\n",
              " array([0.26453106, 0.29647103, 0.20283464, 0.23616327]),\n",
              " array([0.26453106, 0.29647103, 0.20283464, 0.23616327]),\n",
              " array([0.26453106, 0.29647103, 0.20283464, 0.23616327]),\n",
              " array([0.26453106, 0.29647103, 0.20283464, 0.23616327]),\n",
              " array([0.26453106, 0.29647103, 0.20283464, 0.23616327]),\n",
              " array([0.26453106, 0.29647103, 0.20283464, 0.23616327]),\n",
              " array([0.26453106, 0.29647103, 0.20283464, 0.23616327]),\n",
              " array([0.26453106, 0.29647103, 0.20283464, 0.23616327]),\n",
              " array([0.26453106, 0.29647103, 0.20283464, 0.23616327]),\n",
              " array([0.26453106, 0.29647103, 0.20283464, 0.23616327]),\n",
              " array([0.26453106, 0.29647103, 0.20283464, 0.23616327]),\n",
              " array([0.26453106, 0.29647103, 0.20283464, 0.23616327]),\n",
              " array([0.26453106, 0.29647103, 0.20283464, 0.23616327]),\n",
              " array([0.26453106, 0.29647103, 0.20283464, 0.23616327]),\n",
              " array([0.26453106, 0.29647103, 0.20283464, 0.23616327]),\n",
              " array([0.26453106, 0.29647103, 0.20283464, 0.23616327]),\n",
              " array([0.26453106, 0.29647103, 0.20283464, 0.23616327]),\n",
              " array([0.26453106, 0.29647103, 0.20283464, 0.23616327]),\n",
              " array([0.26453106, 0.29647103, 0.20283464, 0.23616327]),\n",
              " array([0.26453106, 0.29647103, 0.20283464, 0.23616327]),\n",
              " array([0.26453106, 0.29647103, 0.20283464, 0.23616327]),\n",
              " array([0.26453106, 0.29647103, 0.20283464, 0.23616327]),\n",
              " array([0.26453106, 0.29647103, 0.20283464, 0.23616327]),\n",
              " array([0.26453106, 0.29647103, 0.20283464, 0.23616327]),\n",
              " array([0.26453106, 0.29647103, 0.20283464, 0.23616327]),\n",
              " array([0.26453106, 0.29647103, 0.20283464, 0.23616327]),\n",
              " array([0.26453106, 0.29647103, 0.20283464, 0.23616327]),\n",
              " array([0.26453106, 0.29647103, 0.20283464, 0.23616327]),\n",
              " array([0.26453106, 0.29647103, 0.20283464, 0.23616327]),\n",
              " array([0.26453106, 0.29647103, 0.20283464, 0.23616327]),\n",
              " array([0.26453106, 0.29647103, 0.20283464, 0.23616327]),\n",
              " array([0.26453106, 0.29647103, 0.20283464, 0.23616327]),\n",
              " array([0.26453106, 0.29647103, 0.20283464, 0.23616327]),\n",
              " array([0.26453106, 0.29647103, 0.20283464, 0.23616327]),\n",
              " array([0.26453106, 0.29647103, 0.20283464, 0.23616327]),\n",
              " array([0.26453106, 0.29647103, 0.20283464, 0.23616327]),\n",
              " array([0.26453106, 0.29647103, 0.20283464, 0.23616327]),\n",
              " array([0.26453106, 0.29647103, 0.20283464, 0.23616327]),\n",
              " array([0.26453106, 0.29647103, 0.20283464, 0.23616327]),\n",
              " array([0.26453106, 0.29647103, 0.20283464, 0.23616327]),\n",
              " array([0.26453106, 0.29647103, 0.20283464, 0.23616327]),\n",
              " array([0.26453106, 0.29647103, 0.20283464, 0.23616327]),\n",
              " array([0.26453106, 0.29647103, 0.20283464, 0.23616327]),\n",
              " array([0.26453106, 0.29647103, 0.20283464, 0.23616327]),\n",
              " array([0.26453106, 0.29647103, 0.20283464, 0.23616327]),\n",
              " array([0.26453106, 0.29647103, 0.20283464, 0.23616327]),\n",
              " array([0.26453106, 0.29647103, 0.20283464, 0.23616327]),\n",
              " array([0.26453106, 0.29647103, 0.20283464, 0.23616327]),\n",
              " array([0.26453106, 0.29647103, 0.20283464, 0.23616327]),\n",
              " array([0.26453106, 0.29647103, 0.20283464, 0.23616327]),\n",
              " array([0.26453106, 0.29647103, 0.20283464, 0.23616327]),\n",
              " array([0.26453106, 0.29647103, 0.20283464, 0.23616327]),\n",
              " array([0.26453106, 0.29647103, 0.20283464, 0.23616327]),\n",
              " array([0.26453106, 0.29647103, 0.20283464, 0.23616327]),\n",
              " array([0.26453106, 0.29647103, 0.20283464, 0.23616327]),\n",
              " array([0.26453106, 0.29647103, 0.20283464, 0.23616327]),\n",
              " array([0.26453106, 0.29647103, 0.20283464, 0.23616327]),\n",
              " array([0.26453106, 0.29647103, 0.20283464, 0.23616327]),\n",
              " array([0.26453106, 0.29647103, 0.20283464, 0.23616327]),\n",
              " array([0.26453106, 0.29647103, 0.20283464, 0.23616327]),\n",
              " array([0.26453106, 0.29647103, 0.20283464, 0.23616327]),\n",
              " array([0.26453106, 0.29647103, 0.20283464, 0.23616327]),\n",
              " array([0.26453106, 0.29647103, 0.20283464, 0.23616327]),\n",
              " array([0.26453106, 0.29647103, 0.20283464, 0.23616327]),\n",
              " array([0.26453106, 0.29647103, 0.20283464, 0.23616327]),\n",
              " array([0.26453106, 0.29647103, 0.20283464, 0.23616327]),\n",
              " array([0.26453106, 0.29647103, 0.20283464, 0.23616327]),\n",
              " array([0.26453106, 0.29647103, 0.20283464, 0.23616327]),\n",
              " array([0.26453106, 0.29647103, 0.20283464, 0.23616327])]"
            ]
          },
          "metadata": {},
          "execution_count": 18
        }
      ]
    },
    {
      "cell_type": "code",
      "source": [
        "class A():\n",
        "  def __init__(self):\n",
        "    self.__i=0\n",
        "  def m(self):\n",
        "    return"
      ],
      "metadata": {
        "id": "08iO8k0UJRbK"
      },
      "execution_count": null,
      "outputs": []
    },
    {
      "cell_type": "code",
      "source": [
        "  def n(self):\n",
        "\n",
        "    return"
      ],
      "metadata": {
        "id": "NknEyBfNJt_4"
      },
      "execution_count": null,
      "outputs": []
    }
  ]
}