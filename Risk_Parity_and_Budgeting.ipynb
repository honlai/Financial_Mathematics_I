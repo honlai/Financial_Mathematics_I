{
  "nbformat": 4,
  "nbformat_minor": 0,
  "metadata": {
    "colab": {
      "provenance": [],
      "collapsed_sections": [
        "tjBKcX0clhp-",
        "nugTcXYill79",
        "drnulIgzygN_",
        "eCy4_d4QlvcA",
        "P9r4lnz2zAKY",
        "Dr33vy6qPLYg",
        "woyNTYAq3F1v",
        "SJrQcvfnMw76",
        "ooTbdBFsfGki"
      ],
      "authorship_tag": "ABX9TyNoOhFVqExUvGy1kD22hl5m",
      "include_colab_link": true
    },
    "kernelspec": {
      "name": "python3",
      "display_name": "Python 3"
    },
    "language_info": {
      "name": "python"
    }
  },
  "cells": [
    {
      "cell_type": "markdown",
      "metadata": {
        "id": "view-in-github",
        "colab_type": "text"
      },
      "source": [
        "<a href=\"https://colab.research.google.com/github/honlai/Financial_Mathematics_I/blob/main/Risk_Parity_and_Budgeting.ipynb\" target=\"_parent\"><img src=\"https://colab.research.google.com/assets/colab-badge.svg\" alt=\"Open In Colab\"/></a>"
      ]
    },
    {
      "cell_type": "markdown",
      "source": [
        "# Nov6 Note\n",
        "## Risk Contribution of Portfolio Assets\n",
        "\n",
        "### Profit and Loss of the Portfolio\n",
        "The total profit or loss of the portfolio ($\\Pi$) is calculated as the sum of the profits or losses of each asset in the portfolio:\n",
        "\n",
        "$$\\Pi=\\sum_{i=1}^N\\Pi_i$$\n",
        "\n",
        "### Risk-Adjusted Performance Measure\n",
        "The risk-adjusted performance measure ($\\mathcal{RAPM}$) is a measure used to examine the performance of an investment portfolio by adjusting for the risk involved. It's calculated as the expected return of the portfolio divided by the risk of the portfolio. The same measure can be calculated for an individual asset in the portfolio, considering the risk of the asset given the portfolio:\n",
        "\n",
        "$$\\mathcal{RAPM}(\\Pi):=\\frac{\\mathbb{E}[\\Pi]}{\\mathcal{R}(\\Pi)}$$\n",
        "$$\\mathcal{RAPM}(\\Pi_i|\\Pi):=\\frac{\\mathbb{E}[\\Pi_i]}{\\mathcal{R}(\\Pi_i|\\Pi)}$$\n",
        "\n",
        "Here, $\\mathcal{R}$ is a coherent risk measure.\n",
        "\n",
        "### Theorem\n",
        "The risk of an individual asset given the portfolio ($\\mathcal{R}(\\Pi_i|\\Pi)$) can be calculated as follows:\n",
        "\n",
        "$$\\mathcal{R}(\\Pi_i|\\Pi)=\\frac{d}{dh}\\mathcal{R}(h\\Pi_i+\\Pi)|_{h=0}$$\n",
        "\n",
        "This holds if the following conditions are met:\n",
        "\n",
        "1. Full allocation property: The total risk of the portfolio is the sum of the risks of each asset given the portfolio.\n",
        "\n",
        "$$\\mathcal{R}(\\Pi)=\\sum_{i=1}^N\\mathcal{R}(\\Pi_i|\\Pi)$$\n",
        "\n",
        "2. $\\mathcal{RAPM}$ compatibility: There exists a positive $\\epsilon_i$ such that if the risk-adjusted performance measure of an asset given the portfolio is greater than the risk-adjusted performance measure of the portfolio, then increasing the weight of the asset in the portfolio will increase the risk-adjusted performance measure of the portfolio.\n",
        "\n",
        "$$\\exists \\epsilon_i>0 $$\n",
        "s.t. $$\\mathcal{RAPM}(\\Pi_i|\\Pi)>\\mathcal{RAPM}(\\Pi)\\Rightarrow \\mathcal{RAPM}(h\\Pi_i+\\Pi)>\\mathcal{RAPM}(\\Pi) \\hspace{5mm} \\forall 0<h<\\epsilon_i$$\n",
        "\n",
        "### Definition\n",
        "The risk contribution of asset $i$ ($\\mathcal{RC}_i(\\mathcal{w})$) is the contribution of an individual asset to the overall risk of the portfolio. It's calculated as the weight of the asset times the partial derivative of the risk with respect to the weight of the asset. The sum of the risk contributions of all assets equals the total risk of the portfolio, satisfying the Euler allocation principle:\n",
        "\n",
        "$$\\mathcal{RC}_i(\\mathcal{w}):=\\mathcal{w}_i\\frac{\\partial\\mathcal{R}(\\mathcal{w})}{\\partial\\mathcal{w}_i}$$\n",
        "$$\\mathcal{R}(\\mathcal{w})=\\sum_{i=1}^N\\mathcal{w}_i\\frac{\\partial\\mathcal{R}(\\mathcal{w})}{\\partial\\mathcal{w}_i}=\\sum_{i=1}^N\\mathcal{RC}_i(\\mathcal{w})$$"
      ],
      "metadata": {
        "id": "Q6aSe1ALXMRU"
      }
    },
    {
      "cell_type": "markdown",
      "source": [
        "\n",
        "\n",
        "---\n",
        "\n"
      ],
      "metadata": {
        "id": "cYtEsxrBexdP"
      }
    },
    {
      "cell_type": "markdown",
      "source": [
        "# Risk Budgeting Portfolio\n",
        "\n",
        "The goal is to control the risk allocation of the portfolio.\n",
        "\n",
        "Given a set of relative risk contributions $[b_1, b_2, ... ,b_N]$, where $\\sum_{i=1}^Nb_i=1$ and $b_i\\ge0$ for all $i$.\n",
        "\n",
        "## Non-linear System\n",
        "\n",
        "We consider the following non-linear system:\n",
        "\n",
        "- The risk contribution of each asset $i$ in the portfolio, denoted as $\\mathcal{RC}_i(\\mathcal{w})$, is equal to the product of the relative risk contribution $b_i$ and the total risk of the portfolio $\\mathcal{R}(\\mathcal{w})$.\n",
        "- The sum of the weights of all assets in the portfolio equals 1, and each weight is non-negative.\n",
        "\n",
        "This can be written as:\n",
        "\n",
        "$$\\mathcal{RC}_i(\\mathcal{w})=b_i\\mathcal{R}(\\mathcal{w})$$\n",
        "$$\\sum_{i=1}^N\\mathcal{w}_i=1 ,\\hspace{5mm} \\mathcal{w}_i\\ge0$$\n",
        "\n",
        "## Optimization Problem\n",
        "\n",
        "Using the Lagrange method, the above system can be transformed into the following optimization problem:\n",
        "\n",
        "- Minimize the total risk of the portfolio $\\mathcal{R}(\\mathcal{y})$.\n",
        "- Subject to the constraint that the sum of the product of the relative risk contribution $b_i$ and the natural logarithm of the weight of each asset $\\mathcal{y}_i$ is greater than or equal to an arbitrary constant $c$, and each weight is non-negative.\n",
        "\n",
        "This can be written as:\n",
        "\n",
        "$$\\Longleftrightarrow min_\\mathcal{y}\\mathcal{R}(\\mathcal{y})$$\n",
        "$$u.c.\\hspace{5mm} \\sum_{i=1}^Nb_iln(\\mathcal{y}_i)\\ge c ,\\hspace{5mm} \\mathcal{y}\\ge0$$\n",
        "\n",
        "where $c$ is an arbitrary constant."
      ],
      "metadata": {
        "id": "SzNEGGcDbPyf"
      }
    },
    {
      "cell_type": "markdown",
      "source": [
        "# Solution\n",
        "\n",
        "The solution to the optimization problem depends on the values of the relative risk contributions $b_i$ and the correlation coefficients $\\rho_{i,j}$.\n",
        "\n",
        "1. If $b_i > 0$ for all $i$, then a solution exists and is unique.\n",
        "2. If $b_i \\ge 0$ for all $i$, then there may be several solutions.\n",
        "3. If $\\rho_{i,j} \\ge 0$ for all $i$ and $j$, then the solution is unique.\n",
        "\n",
        "If $b_i = \\frac{1}{N}$ for all $i$, this is referred to as an Equal Risk Contribution (ERC) portfolio.\n",
        "\n",
        "Consider the utility function $u(\\mathcal{w}) = \\mathcal{w}^T \\mu - \\frac{\\phi}{2}\\mathcal{R}(\\mathcal{w})^2$.\n",
        "\n",
        "## Optimal Solution\n",
        "\n",
        "The optimal solution is obtained when the derivative of the utility function with respect to the weights is zero. This can be written as:\n",
        "\n",
        "$$\\Leftrightarrow \\partial_{\\mathcal{w}}u(\\mathcal{w})=0$$\n",
        "$$\\Leftrightarrow\\mu = \\phi \\mathcal{R}(\\mathcal{w})\\frac{\\partial\\mathcal{R}(\\mathcal{w})}{\\partial\\mathcal{w}}$$\n",
        "\n",
        "## Performance Contribution\n",
        "\n",
        "The performance contribution of each asset $i$ in the portfolio, denoted as $\\mathcal{PC}_i$, is equal to the product of the weight of the asset $\\mathcal{w}_i$ and its expected return $\\mu_i$. This can be written as:\n",
        "\n",
        "$$\\mathcal{PC}_i = \\mathcal{w}_i\\mu_i$$\n",
        "$$= \\phi\\mathcal{R}(\\mathcal{w})\\mathcal{RC}_i$$\n",
        "$$\\propto b_i$$\n",
        "\n",
        "This implies that the performance contribution of each asset is proportional to its relative risk contribution."
      ],
      "metadata": {
        "id": "hdAYG-gDZHbt"
      }
    },
    {
      "cell_type": "markdown",
      "source": [
        "# Example\n",
        "\n",
        "Consider a portfolio with $n=2$ assets and a correlation coefficient of $\\rho$.\n",
        "\n",
        "## Portfolio Weights\n",
        "\n",
        "Let's denote the portfolio weights as:\n",
        "\n",
        "$$\\textbf{x}=\n",
        "\\begin{bmatrix}\n",
        "    w\\\\\n",
        "    1-w\n",
        "\\end{bmatrix}$$\n",
        "\n",
        "The total risk of the portfolio, denoted as $\\sigma(\\textbf{x})$, can be calculated as:\n",
        "\n",
        "$$\\sigma(\\textbf{x})=\\sqrt{w^2\\sigma_1^2+2w(1-w)\\sigma_1\\sigma_2+(1-w)^2\\sigma_2^2}$$\n",
        "\n",
        "The risk contribution of each asset in the portfolio can be calculated as:\n",
        "\n",
        "$$\\begin{bmatrix}\n",
        "    \\mathcal{RC}_1\\\\\n",
        "    \\mathcal{RC}_2\n",
        "\\end{bmatrix}=\\frac{1}{\\sigma(\\textbf{x})}\n",
        "\\begin{bmatrix}\n",
        "    w^2\\sigma_1^2+w(1-w)\\rho\\sigma_1\\sigma_2\\\\\n",
        "    w(1-w)\\rho\\sigma_1\\sigma_2+(1-w)^2\\sigma_2^2\n",
        "\\end{bmatrix}$$\n",
        "\n",
        "## Relative Risk Contributions\n",
        "\n",
        "Let's denote the relative risk contributions as:\n",
        "\n",
        "$$\\textbf{b}=\n",
        "\\begin{bmatrix}\n",
        "    b\\\\\n",
        "    1-b\n",
        "\\end{bmatrix}$$\n",
        "\n",
        "The weight of the first asset in the portfolio, denoted as $w$, can be calculated as:\n",
        "\n",
        "$$w=\\frac{(b-\\frac{1}{2})\\rho\\sigma_1\\sigma_2-b\\sigma_2^2+\\sigma_1\\sigma_2\\sqrt{(b-\\frac{1}{2})^2\\rho^2+b(1-b)}}{(b-\\frac{1}{2})\\sigma_1^2-b\\sigma_2^2+2(b-\\frac{1}{2})\\rho\\sigma_1\\sigma_2}$$\n",
        "\n",
        "## Remark\n",
        "\n",
        "The problem becomes hard to solve when $n > 2$. In such cases, a numerical solution is typically used."
      ],
      "metadata": {
        "id": "yULV7FhdZBXQ"
      }
    },
    {
      "cell_type": "markdown",
      "source": [
        "# Consideration of Different Portfolios\n",
        "\n",
        "We consider three types of portfolios:\n",
        "\n",
        "1. **Weighted Budget (WB)**: In this portfolio, the ratio of the weight of each asset $i$ to its relative risk contribution $b_i$ is the same for all assets. This can be written as:\n",
        "\n",
        "    $$\\frac{x_i}{b_i}=\\frac{x_j}{b_j}$$\n",
        "\n",
        "2. **Marginal Budget (MB)**: In this portfolio, the partial derivative of the total risk of the portfolio with respect to the weight of each asset is the same for all assets. This can be written as:\n",
        "\n",
        "    $$\\partial_i\\mathcal{R}(\\textbf{x})=\\partial_j\\mathcal{R}(\\textbf{x})$$\n",
        "\n",
        "3. **Risk Budget (RB)**: In this portfolio, the ratio of the risk contribution of each asset $i$ to its relative risk contribution $b_i$ is the same for all assets. This can be written as:\n",
        "\n",
        "    $$\\frac{\\mathcal{RC}_i}{b_i}=\\frac{\\mathcal{RC}_j}{b_j}$$\n",
        "\n",
        "## Risk Comparison\n",
        "\n",
        "The total risk of the Marginal Budget portfolio is less than or equal to the total risk of the Risk Budget portfolio, which in turn is less than or equal to the total risk of the Weighted Budget portfolio. This can be written as:\n",
        "\n",
        "$$\\mathcal{R}_{MR} \\le \\mathcal{R}_{RB} \\le \\mathcal{R}_{WB}$$\n",
        "\n",
        "In particular, the total risk of the Minimum Variance (MV) portfolio is less than or equal to the total risk of the Equal Risk Contribution (ERC) portfolio, which in turn is less than or equal to the total risk of the Equal Weight (EW) portfolio:\n",
        "\n",
        "$$\\sigma_{MV} \\le \\sigma_{ERC} \\le \\sigma_{EW}$$\n",
        "\n",
        "## Stability\n",
        "\n",
        "A stable portfolio leads to low turnover and transaction costs. This is an important consideration in portfolio management."
      ],
      "metadata": {
        "id": "yt2eepB_Y5hd"
      }
    }
  ]
}