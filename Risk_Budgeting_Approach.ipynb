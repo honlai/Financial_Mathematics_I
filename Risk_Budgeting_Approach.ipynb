{
  "nbformat": 4,
  "nbformat_minor": 0,
  "metadata": {
    "colab": {
      "provenance": [],
      "authorship_tag": "ABX9TyOgx+GTK+ls5P9L1Ko5R/mN",
      "include_colab_link": true
    },
    "kernelspec": {
      "name": "python3",
      "display_name": "Python 3"
    },
    "language_info": {
      "name": "python"
    }
  },
  "cells": [
    {
      "cell_type": "markdown",
      "metadata": {
        "id": "view-in-github",
        "colab_type": "text"
      },
      "source": [
        "<a href=\"https://colab.research.google.com/github/honlai/Financial_Mathematics_I/blob/main/Risk_Budgeting_Approach.ipynb\" target=\"_parent\"><img src=\"https://colab.research.google.com/assets/colab-badge.svg\" alt=\"Open In Colab\"/></a>"
      ]
    },
    {
      "cell_type": "markdown",
      "source": [
        "# Introduction to Risk Parity and Budgeting - Chapter 2: Risk Budgeting Approach\n",
        "## Allocation Methods\n",
        "- Allocation methods can be influenced by discretionary decisions, such as shrinkage methods or weight constraints.\n",
        "- The performance of an allocation method can vary depending on the choice of constraints.\n",
        "- It's often unclear if one allocation method is superior to another, due to the portfolio method itself or the constraints applied.\n",
        "\n",
        "## Risk Budgeting Approach\n",
        "- The risk budgeting approach, also known as the 'risk parity' approach, requires fewer discretionary inputs.\n",
        "- Risk parity is one of three budgeting methods in asset allocation, alongside weight budgeting and performance budgeting.\n",
        "\n",
        "## Weight Budgeting (WB)\n",
        "- In WB, weights are directly defined. For example, with a 30/70 policy rule for two assets, the weight of asset one is 30% and the weight of asset two is 70%.\n",
        "\n",
        "## Risk Budgeting (RB)\n",
        "- In RB, the risk budgets of the assets are chosen. With the 30/70 policy rule and a desired risk measure of 20%, the risk budget of asset one is 6% and the risk budget of asset two is 14%.\n",
        "\n",
        "## Performance Budgeting (PB)\n",
        "- PB involves calibrating the weights of the portfolio to achieve certain performance contributions. For example, for a targeted portfolio return of 10%, the performance contribution for the assets would be 3% and 7% respectively.\n",
        "\n",
        "## Chapter Organization\n",
        "1. Presentation of the Euler decomposition of a convex risk measure and its application to volatility, value-at-risk, and expected shortfall.\n",
        "2. Study of the properties of risk budgeting portfolios.\n",
        "3. Discussion dedicated to the ERC portfolio.\n",
        "4. Comparison of the risk budgeting approach with the weight budgeting approach.\n",
        "5. Extension of the notion of risk parity portfolios when analyzing the risk measure with respect to risk factors.\n"
      ],
      "metadata": {
        "id": "NMqEuMHIraLk"
      }
    },
    {
      "cell_type": "markdown",
      "source": [
        "# Risk Allocation Principle\n",
        "\n",
        "## Risk Measurement vs Risk Management\n",
        "- Measuring the risk of a portfolio is very different from managing it. A risk measure is a single number that doesn't provide much insight into the diversification of the portfolio.\n",
        "- To go further, we need to precisely define the notion of risk contribution to propose risk allocation principles.\n",
        "- Most of the materials presented here are not specific to asset management and have been generally developed for capital allocation.\n",
        "\n",
        "## Properties of a Risk Measure\n",
        "- Let $\\mathcal{R}(x)$ be the risk measure of portfolio x. In this section, we define the different properties that a risk measure $\\mathcal{R}(x)$ should satisfy to be acceptable in terms of a risk allocation principle.\n",
        "\n",
        "## Coherency and Convexity of Risk Measures\n",
        "- Following Artzner et al. (1999), R is said to be '**coherent**' if it satisfies the following properties:\n",
        "  1. **Subadditivity**: \\\\\n",
        "  $$\\mathcal{R} (x_1 + x_2) \\leq \\mathcal{R} (x_1) + \\mathcal{R} (x_2)$$\n",
        "  The risk of two portfolios should be less than the sum of the risks of the two separate portfolios.\n",
        "  2. **Homogeneity**: \\\\\n",
        "  $$\\mathcal{R} (\\lambda x) = \\lambda \\mathcal{R} (x)$$ if $$\\lambda \\geq 0$$.\n",
        "  Leveraging or deleveraging the portfolio increases or decreases the risk measure in the same magnitude.\n",
        "  3. **Monotonicity**: \\\\\n",
        "  if $$x_1 \\prec x_2$$, then $$\\mathcal{R} (x_1) \\geq \\mathcal{R} (x_2)$$.\n",
        "  If portfolio x2 has a better return than portfolio x1 under all scenarios, risk measure $\\mathcal{R}(x_1)$ should be higher than risk measure $\\mathcal{R}(x_2)$.\n",
        "  4. **Translation Invariance**: \\\\\n",
        "  if $$m \\in \\mathbb{R}$$, then $$\\mathcal{R} (x + m) = \\mathcal{R} (x) - m$$. \\\\\n",
        "  Adding a cash position of amount $m$ to the portfolio reduces the risk by $m$.\n"
      ],
      "metadata": {
        "id": "Fpl62zOctyBK"
      }
    },
    {
      "cell_type": "markdown",
      "source": [
        "# Coherent Risk Measures in Quantitative Management of Risk\n",
        "\n",
        "## Introduction\n",
        "The definition of coherent risk measures has sparked significant interest in the quantitative management of risk. Föllmer and Schied (2002) suggested replacing the homogeneity and subadditivity conditions with a weaker condition known as the convexity property.\n",
        "\n",
        "## Convexity Property\n",
        "The convexity property is defined as follows:\n",
        "\n",
        "$$R (\\lambda x_1 + (1 - \\lambda) x_2) \\leq \\lambda R (x_1) + (1 - \\lambda) R (x_2)$$\n",
        "\n",
        "This condition implies that diversification should not increase the risk.\n",
        "\n",
        "## Risk Measures\n",
        "By definition, the loss of the portfolio is $L(x) = -R (x)$ where $R (x)$ is the return of the portfolio. We then consider different risk measures:\n",
        "\n",
        "### Volatility of the Loss\n",
        "The volatility of the loss is the portfolio’s volatility, defined as:\n",
        "\n",
        "$$R (x) = \\sigma (L(x)) = \\sigma (x)$$\n",
        "\n",
        "### Standard Deviation-Based Risk Measure\n",
        "To obtain this measure, we scale the volatility by factor $c > 0$ and subtract the expected return of the portfolio:\n",
        "\n",
        "$$R (x) = SD_c (x) = \\mathbb{E} [L(x)] + c \\cdot \\sigma (L(x)) = -\\mu (x) + c \\cdot \\sigma (x)$$\n",
        "\n",
        "### Value-at-Risk\n",
        "The value-at-risk is the $\\alpha$-quantile of the loss distribution $F$ and we note it $F^{-1}(\\alpha)$:\n",
        "\n",
        "$$R (x) = VaR_\\alpha (x) = inf \\{l : Pr \\{L(x) \\leq l\\} \\geq \\alpha\\}$$\n",
        "\n",
        "### Expected Shortfall\n",
        "The expected shortfall is the average of the VaRs at level $\\alpha$ and higher (Acerbi and Tasche, 2002). It is also equal to the expected loss given that the loss is beyond the value-at-risk:\n",
        "\n",
        "$$R (x) = ES_\\alpha (x) = \\frac{1}{1 - \\alpha} \\int_{\\alpha}^{1} VaR_u (x) du = \\mathbb{E} [L(x) | L(x) \\geq VaR_\\alpha (x)]$$\n",
        "\n",
        "## Coherency and Convexity Conditions\n",
        "The standard deviation-based risk measure and the expected shortfall satisfy the previous coherency and convexity conditions. However, for the value-at-risk, the subadditivity property does not generally hold. This is problematic because the portfolio’s risk may not be meaningful in this case.\n",
        "\n",
        "Interestingly, the volatility is not a coherent risk measure because it does not verify the translation invariance axiom. However, such axioms were designed based on an economic (and regulatory) capital allocation perspective for the banking system. The translation invariance axiom is not well adapted for portfolio management. This is why we consider that volatility is a coherent and convex risk measure.\n"
      ],
      "metadata": {
        "id": "doTiPMM0v27i"
      }
    },
    {
      "cell_type": "markdown",
      "source": [],
      "metadata": {
        "id": "KkHUQUTxyhKF"
      }
    }
  ]
}