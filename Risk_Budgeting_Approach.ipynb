{
  "nbformat": 4,
  "nbformat_minor": 0,
  "metadata": {
    "colab": {
      "provenance": [],
      "authorship_tag": "ABX9TyOJr5H9kSCo7RIeR8Lk+zNq",
      "include_colab_link": true
    },
    "kernelspec": {
      "name": "python3",
      "display_name": "Python 3"
    },
    "language_info": {
      "name": "python"
    }
  },
  "cells": [
    {
      "cell_type": "markdown",
      "metadata": {
        "id": "view-in-github",
        "colab_type": "text"
      },
      "source": [
        "<a href=\"https://colab.research.google.com/github/honlai/Financial_Mathematics_I/blob/main/Risk_Budgeting_Approach.ipynb\" target=\"_parent\"><img src=\"https://colab.research.google.com/assets/colab-badge.svg\" alt=\"Open In Colab\"/></a>"
      ]
    },
    {
      "cell_type": "markdown",
      "source": [
        "# Introduction to Risk Parity and Budgeting\n",
        "####Author\n",
        "Thierry Roncalli\n",
        "####Date\n",
        "July 16, 2013\n",
        "####Publisher\n",
        "Chapman & Hall/CRC Financial Mathematics Series\n",
        "####Format\n",
        "15.6 x 3.2 x 23.5 cm\n",
        "####Hardcover\n",
        "410 pages\n",
        "####Number of references\n",
        "309 articles + 12 books\n",
        "####Go to the Chapman & Hall page of the book.\n",
        "####Non-exhaustive list of vendors: amazon.com, crc press, barnes and noble, amazon.ca, amazon.uk, amazon.fr, amazon.de, amazon.jp, amazon.it, lehmanns.ch, wheelers.au, wheelers.nz, akademika.no."
      ],
      "metadata": {
        "id": "_7njpC30Vo0B"
      }
    },
    {
      "cell_type": "markdown",
      "source": [
        "#Chapter 2: Risk Budgeting Approach\n",
        "## Allocation Methods\n",
        "- Allocation methods can be influenced by discretionary decisions, such as shrinkage methods or weight constraints.\n",
        "- The performance of an allocation method can vary depending on the choice of constraints.\n",
        "- It's often unclear if one allocation method is superior to another, due to the portfolio method itself or the constraints applied.\n",
        "\n",
        "## Risk Budgeting Approach\n",
        "- The risk budgeting approach, also known as the 'risk parity' approach, requires fewer discretionary inputs.\n",
        "- Risk parity is one of three budgeting methods in asset allocation, alongside weight budgeting and performance budgeting.\n",
        "\n",
        "## Weight Budgeting (WB)\n",
        "- In WB, weights are directly defined. For example, with a 30/70 policy rule for two assets, the weight of asset one is 30% and the weight of asset two is 70%.\n",
        "\n",
        "## Risk Budgeting (RB)\n",
        "- In RB, the risk budgets of the assets are chosen. With the 30/70 policy rule and a desired risk measure of 20%, the risk budget of asset one is 6% and the risk budget of asset two is 14%.\n",
        "\n",
        "## Performance Budgeting (PB)\n",
        "- PB involves calibrating the weights of the portfolio to achieve certain performance contributions. For example, for a targeted portfolio return of 10%, the performance contribution for the assets would be 3% and 7% respectively.\n",
        "\n",
        "## Chapter Organization\n",
        "1. Presentation of the Euler decomposition of a convex risk measure and its application to volatility, value-at-risk, and expected shortfall.\n",
        "2. Study of the properties of risk budgeting portfolios.\n",
        "3. Discussion dedicated to the ERC portfolio.\n",
        "4. Comparison of the risk budgeting approach with the weight budgeting approach.\n",
        "5. Extension of the notion of risk parity portfolios when analyzing the risk measure with respect to risk factors.\n"
      ],
      "metadata": {
        "id": "NMqEuMHIraLk"
      }
    },
    {
      "cell_type": "markdown",
      "source": [
        "# Risk Allocation Principle\n",
        "\n",
        "## Risk Measurement vs Risk Management\n",
        "- Measuring the risk of a portfolio is very different from managing it. A risk measure is a single number that doesn't provide much insight into the diversification of the portfolio.\n",
        "- To go further, we need to precisely define the notion of risk contribution to propose risk allocation principles.\n",
        "- Most of the materials presented here are not specific to asset management and have been generally developed for capital allocation.\n",
        "\n",
        "## Properties of a Risk Measure\n",
        "- Let $\\mathcal{R}(x)$ be the risk measure of portfolio x. In this section, we define the different properties that a risk measure $\\mathcal{R}(x)$ should satisfy to be acceptable in terms of a risk allocation principle.\n",
        "\n",
        "## Coherency and Convexity of Risk Measures\n",
        "- Following Artzner et al. (1999), R is said to be '**coherent**' if it satisfies the following properties:\n",
        "  1. **Subadditivity**: \\\\\n",
        "  $\\mathcal{R} (x_1 + x_2) \\leq \\mathcal{R} (x_1) + \\mathcal{R} (x_2)$ \\\\\n",
        "  The risk of two portfolios should be less than the sum of the risks of the two separate portfolios. \\\\\n",
        "  2. **Homogeneity**: \\\\\n",
        "  $\\mathcal{R} (\\lambda x) = \\lambda \\mathcal{R} (x)$ if $\\lambda \\geq 0$. \\\\\n",
        "  Leveraging or deleveraging the portfolio increases or decreases the risk measure in the same magnitude. \\\\\n",
        "  3. **Monotonicity**: \\\\\n",
        "  If $x_1 \\prec x_2$, then $\\mathcal{R} (x_1) \\geq \\mathcal{R} (x_2)$. \\\\\n",
        "  If portfolio x2 has a better return than portfolio x1 under all scenarios, risk measure $\\mathcal{R}(x_1)$ should be higher than risk measure $\\mathcal{R}(x_2)$. \\\\\n",
        "  4. **Translation Invariance**:  \\\\\n",
        "    If $m \\in \\mathbb{R}$, then $\\mathcal{R} (x + m) = \\mathcal{R} (x) - m$  \\\\\n",
        "    Adding a cash position of amount $m$ to the portfolio reduces the risk by $m$.\n"
      ],
      "metadata": {
        "id": "Fpl62zOctyBK"
      }
    },
    {
      "cell_type": "markdown",
      "source": [
        "# Coherent Risk Measures in Quantitative Management of Risk\n",
        "\n",
        "## Introduction\n",
        "The definition of coherent risk measures has sparked significant interest in the quantitative management of risk.\n",
        "\n",
        "Föllmer and Schied (2002) suggested replacing the homogeneity and subadditivity conditions with a weaker condition known as the convexity property.\n",
        "\n",
        "## Convexity Property\n",
        "The convexity property is defined as follows:\n",
        "\n",
        "$$\\mathcal{R} (\\lambda x_1 + (1 - \\lambda) x_2) \\leq \\lambda \\mathcal{R} (x_1) + (1 - \\lambda) \\mathcal{R} (x_2)$$\n",
        "\n",
        "This condition implies that diversification should not increase the risk.\n",
        "\n",
        "## Risk Measures\n",
        "By definition, the loss of the portfolio is $\\mathcal{L}(x) = -\\mathcal{R} (x)$\n",
        "\n",
        "where $\\mathcal{R} (x)$ is the return of the portfolio.\n",
        "\n",
        "We then consider different risk measures:\n",
        "\n",
        "### Volatility of the Loss\n",
        "The volatility of the loss is the portfolio’s volatility, defined as:\n",
        "\n",
        "$$\\mathcal{R} (x) = \\sigma (\\mathcal{L}(x)) = \\sigma (x)$$\n",
        "\n",
        "### Standard Deviation-Based Risk Measure\n",
        "To obtain this measure, we scale the volatility by factor $c > 0$ and subtract the expected return of the portfolio:\n",
        "\n",
        "$$\\mathcal{R} (x) = SD_c (x) = \\mathbb{E} [\\mathcal{L}(x)] + c \\cdot \\sigma (\\mathcal{L}(x)) = -\\mu (x) + c \\cdot \\sigma (x)$$\n",
        "\n",
        "### Value-at-Risk\n",
        "The value-at-risk is the $\\alpha$-quantile of the loss distribution $F$ and we note it $F^{-1}(\\alpha)$:\n",
        "\n",
        "$$\\mathcal{R} (x) = VaR_\\alpha (x) = inf \\{l : Pr \\{L(x) \\leq l\\} \\geq \\alpha\\}$$\n",
        "\n",
        "### Expected Shortfall\n",
        "The expected shortfall is the average of the VaRs at level $\\alpha$ and higher (Acerbi and Tasche, 2002). It is also equal to the expected loss given that the loss is beyond the value-at-risk:\n",
        "\n",
        "$$\\mathcal{R} (x) = ES_\\alpha (x) = \\frac{1}{1 - \\alpha} \\int_{\\alpha}^{1} VaR_u (x) du = \\mathbb{E} [\\mathcal{L}(x) | \\mathcal{L}(x) \\geq VaR_\\alpha (x)]$$\n",
        "\n",
        "## Coherency and Convexity Conditions\n",
        "The standard deviation-based risk measure and the expected shortfall satisfy the previous coherency and convexity conditions.\n",
        "\n",
        "However, for the value-at-risk, the subadditivity property does not generally hold.\n",
        "\n",
        "This is problematic because the portfolio's risk may not be meaningful in this case.\n",
        "\n",
        "Interestingly, the volatility is not a coherent risk measure because it does not verify the translation invariance axiom.\n",
        "\n",
        "However, such axioms were designed based on an economic (and regulatory) capital allocation perspective for the banking system.\n",
        "\n",
        "The translation invariance axiom is not well adapted for portfolio management. This is why we consider that volatility is a coherent and convex risk measure.\n"
      ],
      "metadata": {
        "id": "doTiPMM0v27i"
      }
    },
    {
      "cell_type": "markdown",
      "source": [
        "* .\n",
        "* .\n",
        "* .\n",
        "* .\n",
        "* .\n",
        "* ."
      ],
      "metadata": {
        "id": "KkHUQUTxyhKF"
      }
    },
    {
      "cell_type": "markdown",
      "source": [
        "##Definition of a Risk Budgeting Portfolio\n",
        "\n",
        "We have a set of given risk budgets $\\{B_1, . . . , B_n\\}$,\n",
        "\n",
        "where $B_i$ is the amount of risk measured in dollars.  \n",
        "\n",
        "$\\mathcal{RC}_i (x_1, . . . , x_n)$ is the risk contribution of asset $i$ with respect to portfolio $x = (x_1, . . . , x_n)$.\n",
        "\n",
        "The risk budgeting portfolio is defined by the constraints:\n",
        "$$\\mathcal{RC}_i (x_1, . . . , x_n) = B_i \\ \\ \\forall i$$\n",
        "\n",
        "\n",
        "The risk budgeting portfolio is the portfolio $x$ such that the risk contributions match the risk budgets.\n",
        "\n",
        "Key differences between a risk budgeting portfolio and an optimized portfolio:\n",
        "  1. A risk budgeting portfolio is not based on maximizing a utility function.\n",
        "  2. A risk budgeting portfolio does not explicitly depend on the expected performance of the portfolio.\n",
        "\n",
        "Unlike the Markowitz approach, we only consider the risk dimension.  \n",
        "\n",
        "The performance dimension is generally not robust due to the complexity of forecasting.  \n",
        "\n",
        "Hence, we focus on the patterns of the portfolio risk.\n",
        "\n",
        "###Remark:\n",
        "This does not imply that we don't need any assumption about the asset returns to build the risk budgeting portfolio.  \n",
        "\n",
        "Some risk measures, like the normal value-at-risk, depend on the vector $\\mu$ of asset returns.  \n",
        "\n",
        "However, $\\mu$ is usually set to zero for a conservative risk measure.\n"
      ],
      "metadata": {
        "id": "KzmAmegBVe57"
      }
    }
  ]
}