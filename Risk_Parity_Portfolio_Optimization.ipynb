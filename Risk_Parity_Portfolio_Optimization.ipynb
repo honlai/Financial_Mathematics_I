{
  "nbformat": 4,
  "nbformat_minor": 0,
  "metadata": {
    "colab": {
      "provenance": [],
      "authorship_tag": "ABX9TyP3AEtphtoGJMnyOWErd/48",
      "include_colab_link": true
    },
    "kernelspec": {
      "name": "python3",
      "display_name": "Python 3"
    },
    "language_info": {
      "name": "python"
    }
  },
  "cells": [
    {
      "cell_type": "markdown",
      "metadata": {
        "id": "view-in-github",
        "colab_type": "text"
      },
      "source": [
        "<a href=\"https://colab.research.google.com/github/honlai/Financial_Mathematics_I/blob/main/Risk_Parity_Portfolio_Optimization.ipynb\" target=\"_parent\"><img src=\"https://colab.research.google.com/assets/colab-badge.svg\" alt=\"Open In Colab\"/></a>"
      ]
    },
    {
      "cell_type": "markdown",
      "source": [
        "#A Signal Processing Perspective on Financial Engineering\n",
        "##Ch9 Risk Parity Portfolio Optimization\n",
        "---\n",
        "##Risk Contribution\n",
        "$N$ **assets** \\\n",
        "**mean vector** $\\mu \\in \\mathbb{R}^N$ \\\n",
        "**covariance matrix** $\\Sigma \\in \\mathbb{R}^{N \\times N}$ \\\n",
        "**portfolio** $\\textbf{w} \\in \\mathbb{R}^N$ \\\n",
        "**risk measurements** $f(\\textbf{w})$   \n",
        "If $f(\\textbf{w})$ is well defined then “**risk contribution**” can be quantified\n",
        "####**Theorm**(Euler's Theorem)\n",
        "Let continuous differentiable function $f:\\mathbb{R}^N \\longrightarrow \\mathbb{R}$ be a positively homogeneous function of degree one.\\\n",
        "(ie. $f(c\\textbf{w})=cf(\\textbf{w}) \\forall c>0$)\\\n",
        "Then $$f(\\textbf{w})=\\sum_{i=1}^N\\textbf{w}_i\\frac{\\partial f}{\\partial \\textbf{w}_i} \\tag{1}$$\n",
        "\n",
        "where  $\\textbf{w}_i\\frac{\\partial f}{\\partial \\textbf{w}_i}$  can be regard as the risk contribution from asset $i$ to total risk $f(\\textbf{w})$\n",
        "##Volatility\n",
        "**variance** $\\sigma^2(\\textbf{w})=\\textbf{w}^T\\Sigma\\textbf{w}$ is not satisfy $(1)$\n",
        "(But $\\sigma(\\textbf{w})=\\sqrt{\\textbf{w}^T\\Sigma\\textbf{w}}$ is satisfy $(1))$\n",
        "$$\\sum_{i=1}^N\\textbf{w}_i\\frac{\\partial \\sigma}{\\partial \\textbf{w}_i}=\\sum_{i=1}^N\\textbf{w}_i (\\frac{\\Sigma\\textbf{w}}{\\sqrt{\\textbf{w}^T\\Sigma\\textbf{w}}})=\\frac{1}{\\sqrt{\\textbf{w}^T\\Sigma\\textbf{w}}}\\sum_{i=1}^N\\textbf{w}_i (\\Sigma\\textbf{w})_i \\ = \\frac{1}{\\sqrt{\\textbf{w}^T\\Sigma\\textbf{w}}}\\textbf{w}^T\\Sigma\\textbf{w}=\\sigma(\\textbf{w})$$\n",
        "##VaR and CVaR\n",
        "\n",
        "\n",
        "\n",
        "\n",
        "\n",
        "\n"
      ],
      "metadata": {
        "id": "g_rgK5KafqBt"
      }
    }
  ]
}