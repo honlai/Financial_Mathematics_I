{
  "nbformat": 4,
  "nbformat_minor": 0,
  "metadata": {
    "colab": {
      "provenance": [],
      "authorship_tag": "ABX9TyNELsOsv30HvUtFxe/JcoOi",
      "include_colab_link": true
    },
    "kernelspec": {
      "name": "python3",
      "display_name": "Python 3"
    },
    "language_info": {
      "name": "python"
    }
  },
  "cells": [
    {
      "cell_type": "markdown",
      "metadata": {
        "id": "view-in-github",
        "colab_type": "text"
      },
      "source": [
        "<a href=\"https://colab.research.google.com/github/honlai/Financial_Mathematics_I/blob/main/Risk_Parity_Portfolio_Optimization.ipynb\" target=\"_parent\"><img src=\"https://colab.research.google.com/assets/colab-badge.svg\" alt=\"Open In Colab\"/></a>"
      ]
    },
    {
      "cell_type": "markdown",
      "source": [
        "#A Signal Processing Perspective on Financial Engineering\n",
        "##Ch9 Risk Parity Portfolio Optimization\n",
        "---\n",
        "##**1. Risk Contribution**\n",
        "$N$ **assets** \\\n",
        "**mean vector** $\\mu \\in \\mathbb{R}^N$ \\\n",
        "**covariance matrix** $\\Sigma \\in \\mathbb{R}^{N \\times N}$ \\\n",
        "**portfolio** $\\textbf{w} \\in \\mathbb{R}^N$ \\\n",
        "**risk measurements** $f(\\textbf{w})$   \n",
        "If $f(\\textbf{w})$ is well defined then “**risk contribution**” can be quantified\n",
        "####**Theorm**(Euler's Theorem)\n",
        "Let continuous differentiable function $f:\\mathbb{R}^N \\longrightarrow \\mathbb{R}$ be a positively homogeneous function of degree one.\\\n",
        "(ie. $f(c\\textbf{w})=cf(\\textbf{w}) \\forall c>0$)\\\n",
        "Then $$f(\\textbf{w})=\\sum_{i=1}^N\\textbf{w}_i\\frac{\\partial f}{\\partial \\textbf{w}_i} \\tag{1}$$\n",
        "\n",
        "where  $\\textbf{w}_i\\frac{\\partial f}{\\partial \\textbf{w}_i}$  can be regard as the risk contribution from asset $i$ to total risk $f(\\textbf{w})$\n",
        "####**Volatility**\n",
        "**variance** $\\sigma^2(\\textbf{w})=\\textbf{w}^T\\Sigma\\textbf{w}$ is not satisfy $(1)$\n",
        "(But $\\sigma(\\textbf{w})=\\sqrt{\\textbf{w}^T\\Sigma\\textbf{w}}$ is satisfy $(1))$\n",
        "$$\\sum_{i=1}^N\\textbf{w}_i\\frac{\\partial \\sigma}{\\partial \\textbf{w}_i}=\\sum_{i=1}^N\\textbf{w}_i (\\frac{\\Sigma\\textbf{w}}{\\sqrt{\\textbf{w}^T\\Sigma\\textbf{w}}})=\\frac{1}{\\sqrt{\\textbf{w}^T\\Sigma\\textbf{w}}}\\sum_{i=1}^N\\textbf{w}_i (\\Sigma\\textbf{w})_i \\\\ = \\frac{1}{\\sqrt{\\textbf{w}^T\\Sigma\\textbf{w}}}\\textbf{w}^T\\Sigma\\textbf{w}=\\sigma(\\textbf{w})$$\n",
        "####**$\\text{VaR}$ (Value-at-Risk) and $\\text{CVaR}$ (Conditional VaR)**\n",
        "The $\\text{CVaR}$ is defined as the conditional mean value of a random variable\n",
        "exceeding a particular percentile.\\\n",
        "Given an random variable $\\textbf{X}$, \\\n",
        "the $\\text{CVaR}$ of the execution cost at the $1-\\epsilon$ confidence level\n",
        "can be expressed as\n",
        "$$\\text{CVaR}_{1-\\epsilon}(\\textbf{X}):=\\text{E}[\\textbf{X}|\\textbf{X}>\\text{VaR}_{1-\\epsilon}(\\textbf{X})]$$\n",
        "where $\\text{VaR}_{1-\\epsilon}(\\textbf{X})$ is the $(1-\\epsilon)$-quantile of $\\text{X}$\n",
        "$$\\text{VaR}_{1-\\epsilon}(\\textbf{X}):=inf_{\\zeta\\in \\mathbb{R}}\\{\\zeta|P(\\text{X}>\\zeta)\\le\\epsilon\\}$$\n",
        "\n",
        "Consider the Gaussian case VaR and $\\text{CVaR}$.\\\n",
        "For the Gaussian distribution, VaR and $\\text{CVaR}$ can be expressed explicitly as\n",
        "$$\\text{VaR}_{1-\\epsilon}(\\textbf{w})=-\\mu^T\\textbf{w}+ \\kappa_1(\\epsilon)\\sqrt{\\textbf{w}^T\\Sigma\\textbf{w}} \\tag{2}$$\n",
        "$$\\text{CVaR}_{1-\\epsilon}(\\textbf{w})=-\\mu^T\\textbf{w}+ \\kappa_2(\\epsilon)\\sqrt{\\textbf{w}^T\\Sigma\\textbf{w}} \\tag{3}$$\n",
        "where $\\kappa_1(\\epsilon):=Q^{-1}(\\epsilon)$ and $\\kappa_2(\\epsilon):=\\frac{1}{\\sqrt{2\\pi}\\epsilon}e^{-\\frac{(Q^{-1}(\\epsilon))^2}{2}}$ ,\n",
        "and $Q^{-1}(\\cdotp)$ is the\n",
        "inverse of the $Q$-function\n",
        "$$Q(x)=\\frac{1}{\\sqrt{2\\pi}}\\int_x^\\infty e^{-\\frac{u^2}{2}}du$$\n",
        "We implicitly assume $epsilon$ is small ($\\epsilon\\le20$%) and $\\kappa_1(\\epsilon)$, $\\kappa_2(\\epsilon)$ both positive.\n",
        "\n",
        "\n",
        "\n",
        "\n",
        "\n",
        "\n",
        "\n"
      ],
      "metadata": {
        "id": "g_rgK5KafqBt"
      }
    }
  ]
}