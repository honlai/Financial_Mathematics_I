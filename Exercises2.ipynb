{
  "cells": [
    {
      "cell_type": "markdown",
      "metadata": {
        "id": "o0rKwRVsR5a7"
      },
      "source": [
        "Retrieve historical stock data and analyze its asset returns"
      ]
    },
    {
      "cell_type": "code",
      "execution_count": null,
      "metadata": {
        "id": "RSGOQ1ZuR5a9"
      },
      "outputs": [],
      "source": [
        "import numpy as np\n",
        "import pandas as pd\n",
        "import yfinance as yf\n",
        "import matplotlib.pyplot as plt\n",
        "from datetime import datetime\n",
        "#股票代號\n",
        "stocks_list=['2330.TW','2357.TW','2454.TW','3231.TW']\n",
        "#開始日期\n",
        "start_date='2023-01-01'\n",
        "#完結日期\n",
        "end_date='2023-10-01'\n",
        "#股票數\n",
        "N=len(stocks_list)\n",
        "#次數\n",
        "M=0#len(data)\n",
        "# 創建一個空的的主數據框data\n",
        "data = pd.DataFrame()\n",
        "for stock in stocks_list:\n",
        "    # yf.download(股票代號,start=開始日期,end=完結日期)\n",
        "    # yf.download(股票代號,period=日期範圍(1d,5d,1mo,3mo,6mo,1y,2y,5y,10y,ytd,max),\n",
        "    #         interval=頻率(1m,2m,5m,15m,30m,60m,90m,1h,1d,5d,1wk,1mo,3mo))\n",
        "    df=yf.download(stock,start=start_date,end=end_date)\n",
        "    df=df[['Adj Close']]#調整後收盤價\n",
        "    df=df.rename(columns = {'Adj Close': stock})\n",
        "    if data.empty:\n",
        "        data = df\n",
        "    else:\n",
        "        data=pd.concat([data, df], axis=1)\n",
        "    print(stock)"
      ]
    }
  ],
  "metadata": {
    "language_info": {
      "name": "python"
    },
    "colab": {
      "provenance": []
    },
    "kernelspec": {
      "name": "python3",
      "display_name": "Python 3"
    }
  },
  "nbformat": 4,
  "nbformat_minor": 0
}